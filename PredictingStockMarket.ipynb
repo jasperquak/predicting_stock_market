{
 "cells": [
  {
   "cell_type": "markdown",
   "metadata": {},
   "source": [
    "# Predicting the stock market\n",
    "\n",
    "The [S&P 500](https://en.wikipedia.org/wiki/S%26P_500) is a stock market index tracking the stock performance of 500 of the largest companies listed on stock exchanges in the United States. \n",
    "\n",
    "In this project, we'll use historic data of the S&P 500 to make predictions about the future, with a linear regression model. The goal is merely to practice my machine learning skills. It is explicitly **not** recommended to use outcome and model as any trading advice.\n",
    "\n",
    "On many websites the index can be followed, and historic data can be found. I will make use though of a file that was provided by [Dataquest](https://www.dataquest.io/) and can be downloaded from [one of their course pages](https://app.dataquest.io/c/11/m/65/guided-project%3A-predicting-the-stock-market/1/the-dataset?path=2&slug=data-scientist&version=1.2). (You need a Dataquest account for that.) It contains historic data from 1950 to 2015.\n",
    "\n",
    "Structure of this notebook:\n",
    "* 1.Preparations, data exploration and cleaning\n",
    "* 2.Enrich data with potential predictors\n",
    "    * 2.1 Calculate potential predictors\n",
    "    * 2.2 Transform data for machine learning\n",
    "* 3.Train and use a linear regression model\n",
    "    * 3.1 Split in train and test\n",
    "    * 3.2 Build linear regression model\n",
    "    * 3.3 Prepare feature selection (numerical only)\n",
    "    * 3.4 Test with various selections of numerical features\n",
    "    * 3.5 Adding categorical features (month, day)\n",
    "* 4.Trying to improve the model\n",
    "    * 4.1 Rolling horizon\n",
    "    * 4.2 Use less historical data\n",
    "* 5.Conclusions and possible next steps"
   ]
  },
  {
   "cell_type": "markdown",
   "metadata": {},
   "source": [
    "## 1. Preparations, data exploration and cleaning\n",
    "\n",
    "In this section we will do some preparations such as importing all libraries, import the data, do some exploration and cleaning to make it suitable for next steps."
   ]
  },
  {
   "cell_type": "code",
   "execution_count": 1,
   "metadata": {},
   "outputs": [],
   "source": [
    "# Import libraries (and enable plotting)\n",
    "import pandas as pd\n",
    "\n",
    "import matplotlib.pyplot as plt\n",
    "%matplotlib inline\n",
    "\n",
    "from pandas.plotting import register_matplotlib_converters\n",
    "register_matplotlib_converters()\n",
    "\n",
    "from sklearn.linear_model import LinearRegression\n",
    "from sklearn.metrics import mean_absolute_error\n",
    "from sklearn.preprocessing import MinMaxScaler\n",
    "\n",
    "from datetime import datetime"
   ]
  },
  {
   "cell_type": "code",
   "execution_count": 2,
   "metadata": {},
   "outputs": [],
   "source": [
    "# Always display all columns in the output\n",
    "pd.options.display.max_columns = None"
   ]
  },
  {
   "cell_type": "code",
   "execution_count": 3,
   "metadata": {},
   "outputs": [
    {
     "name": "stdout",
     "output_type": "stream",
     "text": [
      "<class 'pandas.core.frame.DataFrame'>\n",
      "RangeIndex: 16590 entries, 0 to 16589\n",
      "Data columns (total 7 columns):\n",
      "Date         16590 non-null object\n",
      "Open         16590 non-null float64\n",
      "High         16590 non-null float64\n",
      "Low          16590 non-null float64\n",
      "Close        16590 non-null float64\n",
      "Volume       16590 non-null float64\n",
      "Adj Close    16590 non-null float64\n",
      "dtypes: float64(6), object(1)\n",
      "memory usage: 907.4+ KB\n"
     ]
    },
    {
     "data": {
      "text/html": [
       "<div>\n",
       "<style scoped>\n",
       "    .dataframe tbody tr th:only-of-type {\n",
       "        vertical-align: middle;\n",
       "    }\n",
       "\n",
       "    .dataframe tbody tr th {\n",
       "        vertical-align: top;\n",
       "    }\n",
       "\n",
       "    .dataframe thead th {\n",
       "        text-align: right;\n",
       "    }\n",
       "</style>\n",
       "<table border=\"1\" class=\"dataframe\">\n",
       "  <thead>\n",
       "    <tr style=\"text-align: right;\">\n",
       "      <th></th>\n",
       "      <th>Date</th>\n",
       "      <th>Open</th>\n",
       "      <th>High</th>\n",
       "      <th>Low</th>\n",
       "      <th>Close</th>\n",
       "      <th>Volume</th>\n",
       "      <th>Adj Close</th>\n",
       "    </tr>\n",
       "  </thead>\n",
       "  <tbody>\n",
       "    <tr>\n",
       "      <td>0</td>\n",
       "      <td>2015-12-07</td>\n",
       "      <td>2090.419922</td>\n",
       "      <td>2090.419922</td>\n",
       "      <td>2066.780029</td>\n",
       "      <td>2077.070068</td>\n",
       "      <td>4.043820e+09</td>\n",
       "      <td>2077.070068</td>\n",
       "    </tr>\n",
       "    <tr>\n",
       "      <td>1</td>\n",
       "      <td>2015-12-04</td>\n",
       "      <td>2051.239990</td>\n",
       "      <td>2093.840088</td>\n",
       "      <td>2051.239990</td>\n",
       "      <td>2091.689941</td>\n",
       "      <td>4.214910e+09</td>\n",
       "      <td>2091.689941</td>\n",
       "    </tr>\n",
       "    <tr>\n",
       "      <td>2</td>\n",
       "      <td>2015-12-03</td>\n",
       "      <td>2080.709961</td>\n",
       "      <td>2085.000000</td>\n",
       "      <td>2042.349976</td>\n",
       "      <td>2049.620117</td>\n",
       "      <td>4.306490e+09</td>\n",
       "      <td>2049.620117</td>\n",
       "    </tr>\n",
       "  </tbody>\n",
       "</table>\n",
       "</div>"
      ],
      "text/plain": [
       "         Date         Open         High          Low        Close  \\\n",
       "0  2015-12-07  2090.419922  2090.419922  2066.780029  2077.070068   \n",
       "1  2015-12-04  2051.239990  2093.840088  2051.239990  2091.689941   \n",
       "2  2015-12-03  2080.709961  2085.000000  2042.349976  2049.620117   \n",
       "\n",
       "         Volume    Adj Close  \n",
       "0  4.043820e+09  2077.070068  \n",
       "1  4.214910e+09  2091.689941  \n",
       "2  4.306490e+09  2049.620117  "
      ]
     },
     "execution_count": 3,
     "metadata": {},
     "output_type": "execute_result"
    }
   ],
   "source": [
    "# Import the data\n",
    "sphist = pd.read_csv('sphist.csv')\n",
    "\n",
    "# Show basic info\n",
    "sphist.info()\n",
    "\n",
    "# Show a sample\n",
    "sphist.head(3)"
   ]
  },
  {
   "cell_type": "markdown",
   "metadata": {},
   "source": [
    "So we have 16590 rows, without any missing data. There is one row for every trading day (not for every calendar day). For every trading day we have the value of the S&P 500 index at opening, the highest and lowest value during the day, and at closing, as well as the trading value. (I will get back to the 'adjusted close'.)\n",
    "\n",
    "The only data transformation to do is to convert the Date column to a Datetime. Also, for convenience, I will sort the data from old to new."
   ]
  },
  {
   "cell_type": "code",
   "execution_count": 4,
   "metadata": {},
   "outputs": [
    {
     "name": "stdout",
     "output_type": "stream",
     "text": [
      "            Date   Open   High    Low  Close     Volume  Adj Close\n",
      "16589 1950-01-03  16.66  16.66  16.66  16.66  1260000.0      16.66\n",
      "16588 1950-01-04  16.85  16.85  16.85  16.85  1890000.0      16.85\n",
      "16587 1950-01-05  16.93  16.93  16.93  16.93  2550000.0      16.93\n",
      "        Date         Open         High          Low        Close  \\\n",
      "2 2015-12-03  2080.709961  2085.000000  2042.349976  2049.620117   \n",
      "1 2015-12-04  2051.239990  2093.840088  2051.239990  2091.689941   \n",
      "0 2015-12-07  2090.419922  2090.419922  2066.780029  2077.070068   \n",
      "\n",
      "         Volume    Adj Close  \n",
      "2  4.306490e+09  2049.620117  \n",
      "1  4.214910e+09  2091.689941  \n",
      "0  4.043820e+09  2077.070068  \n"
     ]
    }
   ],
   "source": [
    "# Convert Date column to a datetime\n",
    "sphist['Date'] = pd.to_datetime(sphist['Date'])\n",
    "\n",
    "# Sort dataframe on date, ascending\n",
    "sphist.sort_values(by = 'Date', ascending = True, inplace = True)\n",
    "\n",
    "# To validate, show top 3 rows and bottom 3 rows\n",
    "print(sphist.head(3))\n",
    "print(sphist.tail(3))"
   ]
  },
  {
   "cell_type": "markdown",
   "metadata": {},
   "source": [
    "To get an impression of the historic development of the S&P 500 index, let's show a line graph of the Close value."
   ]
  },
  {
   "cell_type": "code",
   "execution_count": 5,
   "metadata": {},
   "outputs": [
    {
     "data": {
      "image/png": "[encoded data removed]",
      "text/plain": [
       "<Figure size 1152x360 with 1 Axes>"
      ]
     },
     "metadata": {
      "needs_background": "light"
     },
     "output_type": "display_data"
    }
   ],
   "source": [
    "# Show a line graph\n",
    "fig,ax = plt.subplots(figsize=(16, 5))\n",
    "plt.plot(sphist['Date'],sphist['Close'])\n",
    "plt.title('S&P 500 Index, 1950 - 2015', fontsize=20)\n",
    "ax.spines['top'].set_visible(False)\n",
    "ax.spines['right'].set_visible(False)\n",
    "plt.show()"
   ]
  },
  {
   "cell_type": "markdown",
   "metadata": {},
   "source": [
    "The adjusted closing price of stock accounts for any changes that happen due to corporate actions like dividends, stock splits, and others after trading hours.\n",
    "\n",
    "Also the index (in essence being a combination of multiple stocks) has an Adjusted Close. If this is different from the Close price, then this may impact our predictive model. Let's check which cases we have."
   ]
  },
  {
   "cell_type": "code",
   "execution_count": 6,
   "metadata": {},
   "outputs": [
    {
     "data": {
      "text/html": [
       "<div>\n",
       "<style scoped>\n",
       "    .dataframe tbody tr th:only-of-type {\n",
       "        vertical-align: middle;\n",
       "    }\n",
       "\n",
       "    .dataframe tbody tr th {\n",
       "        vertical-align: top;\n",
       "    }\n",
       "\n",
       "    .dataframe thead th {\n",
       "        text-align: right;\n",
       "    }\n",
       "</style>\n",
       "<table border=\"1\" class=\"dataframe\">\n",
       "  <thead>\n",
       "    <tr style=\"text-align: right;\">\n",
       "      <th></th>\n",
       "      <th>Date</th>\n",
       "      <th>Open</th>\n",
       "      <th>High</th>\n",
       "      <th>Low</th>\n",
       "      <th>Close</th>\n",
       "      <th>Volume</th>\n",
       "      <th>Adj Close</th>\n",
       "    </tr>\n",
       "  </thead>\n",
       "  <tbody>\n",
       "  </tbody>\n",
       "</table>\n",
       "</div>"
      ],
      "text/plain": [
       "Empty DataFrame\n",
       "Columns: [Date, Open, High, Low, Close, Volume, Adj Close]\n",
       "Index: []"
      ]
     },
     "execution_count": 6,
     "metadata": {},
     "output_type": "execute_result"
    }
   ],
   "source": [
    "# Check for cases where the \"Adj Close\" differs from \"Close\"\n",
    "sphist[sphist['Close'] != sphist['Adj Close']]"
   ]
  },
  {
   "cell_type": "markdown",
   "metadata": {},
   "source": [
    "There are none. So we don't need to worry about this."
   ]
  },
  {
   "cell_type": "markdown",
   "metadata": {},
   "source": [
    "## 2. Enrich data with potential predictors\n",
    "\n",
    "In this section, we're going to add multiple attributes to each row that are possibly meaningful for prediction of the index.\n",
    "\n",
    "### 2.1 Calculate potential predictors\n",
    "\n",
    "We'll add:\n",
    "* the mean closing price of the past 5 trading days\n",
    "* the mean closing price of the past 30 trading days\n",
    "* the mean closing prices of the past 365 trading days (this is actually a year and several months)\n",
    "* the ratio between the mean closing price of the past 5 vs the mean closing price of the past 365 closing days\n",
    "* the trading volume of the previous trading day\n",
    "* the month of the trading day\n",
    "* the day of the week of the trading day"
   ]
  },
  {
   "cell_type": "code",
   "execution_count": 7,
   "metadata": {},
   "outputs": [
    {
     "data": {
      "text/html": [
       "<div>\n",
       "<style scoped>\n",
       "    .dataframe tbody tr th:only-of-type {\n",
       "        vertical-align: middle;\n",
       "    }\n",
       "\n",
       "    .dataframe tbody tr th {\n",
       "        vertical-align: top;\n",
       "    }\n",
       "\n",
       "    .dataframe thead th {\n",
       "        text-align: right;\n",
       "    }\n",
       "</style>\n",
       "<table border=\"1\" class=\"dataframe\">\n",
       "  <thead>\n",
       "    <tr style=\"text-align: right;\">\n",
       "      <th></th>\n",
       "      <th>Date</th>\n",
       "      <th>Open</th>\n",
       "      <th>High</th>\n",
       "      <th>Low</th>\n",
       "      <th>Close</th>\n",
       "      <th>Volume</th>\n",
       "      <th>Adj Close</th>\n",
       "      <th>meanpast5days</th>\n",
       "    </tr>\n",
       "  </thead>\n",
       "  <tbody>\n",
       "    <tr>\n",
       "      <td>16589</td>\n",
       "      <td>1950-01-03</td>\n",
       "      <td>16.660000</td>\n",
       "      <td>16.660000</td>\n",
       "      <td>16.660000</td>\n",
       "      <td>16.660000</td>\n",
       "      <td>1260000.0</td>\n",
       "      <td>16.660000</td>\n",
       "      <td>NaN</td>\n",
       "    </tr>\n",
       "    <tr>\n",
       "      <td>16588</td>\n",
       "      <td>1950-01-04</td>\n",
       "      <td>16.850000</td>\n",
       "      <td>16.850000</td>\n",
       "      <td>16.850000</td>\n",
       "      <td>16.850000</td>\n",
       "      <td>1890000.0</td>\n",
       "      <td>16.850000</td>\n",
       "      <td>NaN</td>\n",
       "    </tr>\n",
       "    <tr>\n",
       "      <td>16587</td>\n",
       "      <td>1950-01-05</td>\n",
       "      <td>16.930000</td>\n",
       "      <td>16.930000</td>\n",
       "      <td>16.930000</td>\n",
       "      <td>16.930000</td>\n",
       "      <td>2550000.0</td>\n",
       "      <td>16.930000</td>\n",
       "      <td>NaN</td>\n",
       "    </tr>\n",
       "    <tr>\n",
       "      <td>16586</td>\n",
       "      <td>1950-01-06</td>\n",
       "      <td>16.980000</td>\n",
       "      <td>16.980000</td>\n",
       "      <td>16.980000</td>\n",
       "      <td>16.980000</td>\n",
       "      <td>2010000.0</td>\n",
       "      <td>16.980000</td>\n",
       "      <td>NaN</td>\n",
       "    </tr>\n",
       "    <tr>\n",
       "      <td>16585</td>\n",
       "      <td>1950-01-09</td>\n",
       "      <td>17.080000</td>\n",
       "      <td>17.080000</td>\n",
       "      <td>17.080000</td>\n",
       "      <td>17.080000</td>\n",
       "      <td>2520000.0</td>\n",
       "      <td>17.080000</td>\n",
       "      <td>NaN</td>\n",
       "    </tr>\n",
       "    <tr>\n",
       "      <td>16584</td>\n",
       "      <td>1950-01-10</td>\n",
       "      <td>17.030001</td>\n",
       "      <td>17.030001</td>\n",
       "      <td>17.030001</td>\n",
       "      <td>17.030001</td>\n",
       "      <td>2160000.0</td>\n",
       "      <td>17.030001</td>\n",
       "      <td>16.900</td>\n",
       "    </tr>\n",
       "    <tr>\n",
       "      <td>16583</td>\n",
       "      <td>1950-01-11</td>\n",
       "      <td>17.090000</td>\n",
       "      <td>17.090000</td>\n",
       "      <td>17.090000</td>\n",
       "      <td>17.090000</td>\n",
       "      <td>2630000.0</td>\n",
       "      <td>17.090000</td>\n",
       "      <td>16.974</td>\n",
       "    </tr>\n",
       "    <tr>\n",
       "      <td>16582</td>\n",
       "      <td>1950-01-12</td>\n",
       "      <td>16.760000</td>\n",
       "      <td>16.760000</td>\n",
       "      <td>16.760000</td>\n",
       "      <td>16.760000</td>\n",
       "      <td>2970000.0</td>\n",
       "      <td>16.760000</td>\n",
       "      <td>17.022</td>\n",
       "    </tr>\n",
       "    <tr>\n",
       "      <td>16581</td>\n",
       "      <td>1950-01-13</td>\n",
       "      <td>16.670000</td>\n",
       "      <td>16.670000</td>\n",
       "      <td>16.670000</td>\n",
       "      <td>16.670000</td>\n",
       "      <td>3330000.0</td>\n",
       "      <td>16.670000</td>\n",
       "      <td>16.988</td>\n",
       "    </tr>\n",
       "    <tr>\n",
       "      <td>16580</td>\n",
       "      <td>1950-01-16</td>\n",
       "      <td>16.719999</td>\n",
       "      <td>16.719999</td>\n",
       "      <td>16.719999</td>\n",
       "      <td>16.719999</td>\n",
       "      <td>1460000.0</td>\n",
       "      <td>16.719999</td>\n",
       "      <td>16.926</td>\n",
       "    </tr>\n",
       "  </tbody>\n",
       "</table>\n",
       "</div>"
      ],
      "text/plain": [
       "            Date       Open       High        Low      Close     Volume  \\\n",
       "16589 1950-01-03  16.660000  16.660000  16.660000  16.660000  1260000.0   \n",
       "16588 1950-01-04  16.850000  16.850000  16.850000  16.850000  1890000.0   \n",
       "16587 1950-01-05  16.930000  16.930000  16.930000  16.930000  2550000.0   \n",
       "16586 1950-01-06  16.980000  16.980000  16.980000  16.980000  2010000.0   \n",
       "16585 1950-01-09  17.080000  17.080000  17.080000  17.080000  2520000.0   \n",
       "16584 1950-01-10  17.030001  17.030001  17.030001  17.030001  2160000.0   \n",
       "16583 1950-01-11  17.090000  17.090000  17.090000  17.090000  2630000.0   \n",
       "16582 1950-01-12  16.760000  16.760000  16.760000  16.760000  2970000.0   \n",
       "16581 1950-01-13  16.670000  16.670000  16.670000  16.670000  3330000.0   \n",
       "16580 1950-01-16  16.719999  16.719999  16.719999  16.719999  1460000.0   \n",
       "\n",
       "       Adj Close  meanpast5days  \n",
       "16589  16.660000            NaN  \n",
       "16588  16.850000            NaN  \n",
       "16587  16.930000            NaN  \n",
       "16586  16.980000            NaN  \n",
       "16585  17.080000            NaN  \n",
       "16584  17.030001         16.900  \n",
       "16583  17.090000         16.974  \n",
       "16582  16.760000         17.022  \n",
       "16581  16.670000         16.988  \n",
       "16580  16.719999         16.926  "
      ]
     },
     "execution_count": 7,
     "metadata": {},
     "output_type": "execute_result"
    }
   ],
   "source": [
    "# For every row, calculate the mean closing price of the past 5 trading days\n",
    "sphist['meanpast5days'] = sphist['Close'].rolling(5).mean()\n",
    "\n",
    "# This 'rolling' value that was calculated now is for five days, but including the closing price of the day itself (which should not be the case)\n",
    "# To address, shift the values one row down\n",
    "sphist['meanpast5days'] = sphist.meanpast5days.shift(1)\n",
    "\n",
    "# Show the first 10 rows\n",
    "sphist.head(10)"
   ]
  },
  {
   "cell_type": "code",
   "execution_count": 8,
   "metadata": {},
   "outputs": [
    {
     "name": "stdout",
     "output_type": "stream",
     "text": [
      "First calculated value is 16.900 and should be 16.9\n"
     ]
    }
   ],
   "source": [
    "# Validate the correctness of the attribute\n",
    "print ('First calculated value is 16.900 and should be', (16.66 + 16.85 + 16.93 + 16.98 +17.08)/5)"
   ]
  },
  {
   "cell_type": "code",
   "execution_count": 9,
   "metadata": {},
   "outputs": [
    {
     "data": {
      "text/html": [
       "<div>\n",
       "<style scoped>\n",
       "    .dataframe tbody tr th:only-of-type {\n",
       "        vertical-align: middle;\n",
       "    }\n",
       "\n",
       "    .dataframe tbody tr th {\n",
       "        vertical-align: top;\n",
       "    }\n",
       "\n",
       "    .dataframe thead th {\n",
       "        text-align: right;\n",
       "    }\n",
       "</style>\n",
       "<table border=\"1\" class=\"dataframe\">\n",
       "  <thead>\n",
       "    <tr style=\"text-align: right;\">\n",
       "      <th></th>\n",
       "      <th>Date</th>\n",
       "      <th>Open</th>\n",
       "      <th>High</th>\n",
       "      <th>Low</th>\n",
       "      <th>Close</th>\n",
       "      <th>Volume</th>\n",
       "      <th>Adj Close</th>\n",
       "      <th>meanpast5days</th>\n",
       "    </tr>\n",
       "  </thead>\n",
       "  <tbody>\n",
       "    <tr>\n",
       "      <td>2</td>\n",
       "      <td>2015-12-03</td>\n",
       "      <td>2080.709961</td>\n",
       "      <td>2085.000000</td>\n",
       "      <td>2042.349976</td>\n",
       "      <td>2049.620117</td>\n",
       "      <td>4.306490e+09</td>\n",
       "      <td>2049.620117</td>\n",
       "      <td>2088.306006</td>\n",
       "    </tr>\n",
       "    <tr>\n",
       "      <td>1</td>\n",
       "      <td>2015-12-04</td>\n",
       "      <td>2051.239990</td>\n",
       "      <td>2093.840088</td>\n",
       "      <td>2051.239990</td>\n",
       "      <td>2091.689941</td>\n",
       "      <td>4.214910e+09</td>\n",
       "      <td>2091.689941</td>\n",
       "      <td>2080.456006</td>\n",
       "    </tr>\n",
       "    <tr>\n",
       "      <td>0</td>\n",
       "      <td>2015-12-07</td>\n",
       "      <td>2090.419922</td>\n",
       "      <td>2090.419922</td>\n",
       "      <td>2066.780029</td>\n",
       "      <td>2077.070068</td>\n",
       "      <td>4.043820e+09</td>\n",
       "      <td>2077.070068</td>\n",
       "      <td>2080.771973</td>\n",
       "    </tr>\n",
       "  </tbody>\n",
       "</table>\n",
       "</div>"
      ],
      "text/plain": [
       "        Date         Open         High          Low        Close  \\\n",
       "2 2015-12-03  2080.709961  2085.000000  2042.349976  2049.620117   \n",
       "1 2015-12-04  2051.239990  2093.840088  2051.239990  2091.689941   \n",
       "0 2015-12-07  2090.419922  2090.419922  2066.780029  2077.070068   \n",
       "\n",
       "         Volume    Adj Close  meanpast5days  \n",
       "2  4.306490e+09  2049.620117    2088.306006  \n",
       "1  4.214910e+09  2091.689941    2080.456006  \n",
       "0  4.043820e+09  2077.070068    2080.771973  "
      ]
     },
     "execution_count": 9,
     "metadata": {},
     "output_type": "execute_result"
    }
   ],
   "source": [
    "# Show bottom 3 rows (to ensure nothing went wrong with the shifting at the final rows)\n",
    "sphist.tail(3)"
   ]
  },
  {
   "cell_type": "code",
   "execution_count": 10,
   "metadata": {},
   "outputs": [
    {
     "data": {
      "text/html": [
       "<div>\n",
       "<style scoped>\n",
       "    .dataframe tbody tr th:only-of-type {\n",
       "        vertical-align: middle;\n",
       "    }\n",
       "\n",
       "    .dataframe tbody tr th {\n",
       "        vertical-align: top;\n",
       "    }\n",
       "\n",
       "    .dataframe thead th {\n",
       "        text-align: right;\n",
       "    }\n",
       "</style>\n",
       "<table border=\"1\" class=\"dataframe\">\n",
       "  <thead>\n",
       "    <tr style=\"text-align: right;\">\n",
       "      <th></th>\n",
       "      <th>Date</th>\n",
       "      <th>Open</th>\n",
       "      <th>High</th>\n",
       "      <th>Low</th>\n",
       "      <th>Close</th>\n",
       "      <th>Volume</th>\n",
       "      <th>Adj Close</th>\n",
       "      <th>meanpast5days</th>\n",
       "      <th>meanpast30days</th>\n",
       "      <th>meanpast365days</th>\n",
       "      <th>ratiopast5vspast365</th>\n",
       "      <th>volprevday</th>\n",
       "    </tr>\n",
       "  </thead>\n",
       "  <tbody>\n",
       "    <tr>\n",
       "      <td>16226</td>\n",
       "      <td>1951-06-15</td>\n",
       "      <td>22.040001</td>\n",
       "      <td>22.040001</td>\n",
       "      <td>22.040001</td>\n",
       "      <td>22.040001</td>\n",
       "      <td>1370000.0</td>\n",
       "      <td>22.040001</td>\n",
       "      <td>21.602</td>\n",
       "      <td>21.753000</td>\n",
       "      <td>NaN</td>\n",
       "      <td>NaN</td>\n",
       "      <td>1300000.0</td>\n",
       "    </tr>\n",
       "    <tr>\n",
       "      <td>16225</td>\n",
       "      <td>1951-06-18</td>\n",
       "      <td>22.049999</td>\n",
       "      <td>22.049999</td>\n",
       "      <td>22.049999</td>\n",
       "      <td>22.049999</td>\n",
       "      <td>1050000.0</td>\n",
       "      <td>22.049999</td>\n",
       "      <td>21.712</td>\n",
       "      <td>21.727333</td>\n",
       "      <td>NaN</td>\n",
       "      <td>NaN</td>\n",
       "      <td>1370000.0</td>\n",
       "    </tr>\n",
       "    <tr>\n",
       "      <td>16224</td>\n",
       "      <td>1951-06-19</td>\n",
       "      <td>22.020000</td>\n",
       "      <td>22.020000</td>\n",
       "      <td>22.020000</td>\n",
       "      <td>22.020000</td>\n",
       "      <td>1100000.0</td>\n",
       "      <td>22.020000</td>\n",
       "      <td>21.800</td>\n",
       "      <td>21.703333</td>\n",
       "      <td>19.447726</td>\n",
       "      <td>1.120954</td>\n",
       "      <td>1050000.0</td>\n",
       "    </tr>\n",
       "    <tr>\n",
       "      <td>16223</td>\n",
       "      <td>1951-06-20</td>\n",
       "      <td>21.910000</td>\n",
       "      <td>21.910000</td>\n",
       "      <td>21.910000</td>\n",
       "      <td>21.910000</td>\n",
       "      <td>1120000.0</td>\n",
       "      <td>21.910000</td>\n",
       "      <td>21.900</td>\n",
       "      <td>21.683000</td>\n",
       "      <td>19.462411</td>\n",
       "      <td>1.125246</td>\n",
       "      <td>1100000.0</td>\n",
       "    </tr>\n",
       "    <tr>\n",
       "      <td>16222</td>\n",
       "      <td>1951-06-21</td>\n",
       "      <td>21.780001</td>\n",
       "      <td>21.780001</td>\n",
       "      <td>21.780001</td>\n",
       "      <td>21.780001</td>\n",
       "      <td>1100000.0</td>\n",
       "      <td>21.780001</td>\n",
       "      <td>21.972</td>\n",
       "      <td>21.659667</td>\n",
       "      <td>19.476274</td>\n",
       "      <td>1.128142</td>\n",
       "      <td>1120000.0</td>\n",
       "    </tr>\n",
       "  </tbody>\n",
       "</table>\n",
       "</div>"
      ],
      "text/plain": [
       "            Date       Open       High        Low      Close     Volume  \\\n",
       "16226 1951-06-15  22.040001  22.040001  22.040001  22.040001  1370000.0   \n",
       "16225 1951-06-18  22.049999  22.049999  22.049999  22.049999  1050000.0   \n",
       "16224 1951-06-19  22.020000  22.020000  22.020000  22.020000  1100000.0   \n",
       "16223 1951-06-20  21.910000  21.910000  21.910000  21.910000  1120000.0   \n",
       "16222 1951-06-21  21.780001  21.780001  21.780001  21.780001  1100000.0   \n",
       "\n",
       "       Adj Close  meanpast5days  meanpast30days  meanpast365days  \\\n",
       "16226  22.040001         21.602       21.753000              NaN   \n",
       "16225  22.049999         21.712       21.727333              NaN   \n",
       "16224  22.020000         21.800       21.703333        19.447726   \n",
       "16223  21.910000         21.900       21.683000        19.462411   \n",
       "16222  21.780001         21.972       21.659667        19.476274   \n",
       "\n",
       "       ratiopast5vspast365  volprevday  \n",
       "16226                  NaN   1300000.0  \n",
       "16225                  NaN   1370000.0  \n",
       "16224             1.120954   1050000.0  \n",
       "16223             1.125246   1100000.0  \n",
       "16222             1.128142   1120000.0  "
      ]
     },
     "execution_count": 10,
     "metadata": {},
     "output_type": "execute_result"
    }
   ],
   "source": [
    "# In the same way, calculate the mean of the past 30 and the past 365 (trading) days\n",
    "sphist['meanpast30days'] = sphist['Close'].rolling(30).mean()\n",
    "sphist['meanpast30days'] = sphist.meanpast30days.shift(1)\n",
    "\n",
    "sphist['meanpast365days'] = sphist['Close'].rolling(365).mean()\n",
    "sphist['meanpast365days'] = sphist.meanpast365days.shift(1)\n",
    "\n",
    "# Add another indicator: the ratio between the mean of the past 5 days and of the past 365 days\n",
    "sphist['ratiopast5vspast365'] = sphist['meanpast5days']/sphist['meanpast365days']\n",
    "\n",
    "# Add another indicator: the volume of the past day\n",
    "sphist['volprevday'] = sphist['Volume'].rolling(1).mean()\n",
    "sphist['volprevday'] = sphist.volprevday.shift(1)\n",
    "\n",
    "# Show some rows around the 365th row, which should be the first to have all values\n",
    "sphist[363:368]"
   ]
  },
  {
   "cell_type": "markdown",
   "metadata": {},
   "source": [
    "That all looks good."
   ]
  },
  {
   "cell_type": "code",
   "execution_count": 11,
   "metadata": {},
   "outputs": [
    {
     "name": "stdout",
     "output_type": "stream",
     "text": [
      "            Date  month\n",
      "6966  1988-04-19      4\n",
      "7496  1986-03-14      3\n",
      "13008 1964-04-06      4\n",
      "11035 1972-03-09      3\n",
      "8684  1981-07-02      7\n",
      "11008    Tuesday\n",
      "Name: dayofweek, dtype: object\n"
     ]
    }
   ],
   "source": [
    "# Add month of the year\n",
    "sphist['month'] = sphist['Date'].dt.month\n",
    "\n",
    "# Add day of the week\n",
    "sphist['dayofweek'] = sphist['Date'].dt.weekday_name\n",
    "\n",
    "# Show some rows to validate the month\n",
    "print(sphist[['Date','month']].sample(5))\n",
    "\n",
    "# Show the day of week of a date for which I know it was a Tuesday\n",
    "print(sphist[sphist['Date'] == '1972-04-18']['dayofweek'])"
   ]
  },
  {
   "cell_type": "markdown",
   "metadata": {},
   "source": [
    "Looks good.\n",
    "\n",
    "Rows with NaN values cannot be used for machine learning. (We saw above we have some now by adding 'meanNNdays' columns. We'll drop those rows."
   ]
  },
  {
   "cell_type": "code",
   "execution_count": 12,
   "metadata": {},
   "outputs": [
    {
     "data": {
      "text/html": [
       "<div>\n",
       "<style scoped>\n",
       "    .dataframe tbody tr th:only-of-type {\n",
       "        vertical-align: middle;\n",
       "    }\n",
       "\n",
       "    .dataframe tbody tr th {\n",
       "        vertical-align: top;\n",
       "    }\n",
       "\n",
       "    .dataframe thead th {\n",
       "        text-align: right;\n",
       "    }\n",
       "</style>\n",
       "<table border=\"1\" class=\"dataframe\">\n",
       "  <thead>\n",
       "    <tr style=\"text-align: right;\">\n",
       "      <th></th>\n",
       "      <th>Date</th>\n",
       "      <th>Open</th>\n",
       "      <th>High</th>\n",
       "      <th>Low</th>\n",
       "      <th>Close</th>\n",
       "      <th>Volume</th>\n",
       "      <th>Adj Close</th>\n",
       "      <th>meanpast5days</th>\n",
       "      <th>meanpast30days</th>\n",
       "      <th>meanpast365days</th>\n",
       "      <th>ratiopast5vspast365</th>\n",
       "      <th>volprevday</th>\n",
       "      <th>month</th>\n",
       "      <th>dayofweek</th>\n",
       "    </tr>\n",
       "  </thead>\n",
       "  <tbody>\n",
       "    <tr>\n",
       "      <td>16224</td>\n",
       "      <td>1951-06-19</td>\n",
       "      <td>22.020000</td>\n",
       "      <td>22.020000</td>\n",
       "      <td>22.020000</td>\n",
       "      <td>22.020000</td>\n",
       "      <td>1100000.0</td>\n",
       "      <td>22.020000</td>\n",
       "      <td>21.800</td>\n",
       "      <td>21.703333</td>\n",
       "      <td>19.447726</td>\n",
       "      <td>1.120954</td>\n",
       "      <td>1050000.0</td>\n",
       "      <td>6</td>\n",
       "      <td>Tuesday</td>\n",
       "    </tr>\n",
       "    <tr>\n",
       "      <td>16223</td>\n",
       "      <td>1951-06-20</td>\n",
       "      <td>21.910000</td>\n",
       "      <td>21.910000</td>\n",
       "      <td>21.910000</td>\n",
       "      <td>21.910000</td>\n",
       "      <td>1120000.0</td>\n",
       "      <td>21.910000</td>\n",
       "      <td>21.900</td>\n",
       "      <td>21.683000</td>\n",
       "      <td>19.462411</td>\n",
       "      <td>1.125246</td>\n",
       "      <td>1100000.0</td>\n",
       "      <td>6</td>\n",
       "      <td>Wednesday</td>\n",
       "    </tr>\n",
       "    <tr>\n",
       "      <td>16222</td>\n",
       "      <td>1951-06-21</td>\n",
       "      <td>21.780001</td>\n",
       "      <td>21.780001</td>\n",
       "      <td>21.780001</td>\n",
       "      <td>21.780001</td>\n",
       "      <td>1100000.0</td>\n",
       "      <td>21.780001</td>\n",
       "      <td>21.972</td>\n",
       "      <td>21.659667</td>\n",
       "      <td>19.476274</td>\n",
       "      <td>1.128142</td>\n",
       "      <td>1120000.0</td>\n",
       "      <td>6</td>\n",
       "      <td>Thursday</td>\n",
       "    </tr>\n",
       "  </tbody>\n",
       "</table>\n",
       "</div>"
      ],
      "text/plain": [
       "            Date       Open       High        Low      Close     Volume  \\\n",
       "16224 1951-06-19  22.020000  22.020000  22.020000  22.020000  1100000.0   \n",
       "16223 1951-06-20  21.910000  21.910000  21.910000  21.910000  1120000.0   \n",
       "16222 1951-06-21  21.780001  21.780001  21.780001  21.780001  1100000.0   \n",
       "\n",
       "       Adj Close  meanpast5days  meanpast30days  meanpast365days  \\\n",
       "16224  22.020000         21.800       21.703333        19.447726   \n",
       "16223  21.910000         21.900       21.683000        19.462411   \n",
       "16222  21.780001         21.972       21.659667        19.476274   \n",
       "\n",
       "       ratiopast5vspast365  volprevday  month  dayofweek  \n",
       "16224             1.120954   1050000.0      6    Tuesday  \n",
       "16223             1.125246   1100000.0      6  Wednesday  \n",
       "16222             1.128142   1120000.0      6   Thursday  "
      ]
     },
     "execution_count": 12,
     "metadata": {},
     "output_type": "execute_result"
    }
   ],
   "source": [
    "# Remove any rows that contain NaN values (as they cannot be used for machine learning)\n",
    "sphist.dropna(axis = 0, inplace = True)\n",
    "\n",
    "# To validate, show the first few remaining rows (should start with 1951-06-19)\n",
    "sphist.head(3)"
   ]
  },
  {
   "cell_type": "code",
   "execution_count": 13,
   "metadata": {},
   "outputs": [
    {
     "name": "stdout",
     "output_type": "stream",
     "text": [
      "<class 'pandas.core.frame.DataFrame'>\n",
      "Int64Index: 16225 entries, 16224 to 0\n",
      "Data columns (total 14 columns):\n",
      "Date                   16225 non-null datetime64[ns]\n",
      "Open                   16225 non-null float64\n",
      "High                   16225 non-null float64\n",
      "Low                    16225 non-null float64\n",
      "Close                  16225 non-null float64\n",
      "Volume                 16225 non-null float64\n",
      "Adj Close              16225 non-null float64\n",
      "meanpast5days          16225 non-null float64\n",
      "meanpast30days         16225 non-null float64\n",
      "meanpast365days        16225 non-null float64\n",
      "ratiopast5vspast365    16225 non-null float64\n",
      "volprevday             16225 non-null float64\n",
      "month                  16225 non-null int64\n",
      "dayofweek              16225 non-null object\n",
      "dtypes: datetime64[ns](1), float64(11), int64(1), object(1)\n",
      "memory usage: 1.9+ MB\n"
     ]
    }
   ],
   "source": [
    "# Let's double-check whether indeed we have a dataframe now containing 365 less rows than before (so that is 16225), and without any missing data.\n",
    "sphist.info()"
   ]
  },
  {
   "cell_type": "markdown",
   "metadata": {},
   "source": [
    "Looks good!\n",
    "\n",
    "For next steps, it is helpful if we have lists containing all the features that we added."
   ]
  },
  {
   "cell_type": "code",
   "execution_count": 14,
   "metadata": {},
   "outputs": [],
   "source": [
    "# Create two lists with all features that we added\n",
    "features_numerical = ['meanpast5days','meanpast30days','meanpast365days', 'ratiopast5vspast365','volprevday']\n",
    "features_categorical = ['month', 'dayofweek']"
   ]
  },
  {
   "cell_type": "markdown",
   "metadata": {},
   "source": [
    "### 2.2 Transform data for machine learning\n",
    "\n",
    "We'll do some transformations for the newly added columns to get our data fully ready for machine learning:\n",
    "* normalize the numerical features\n",
    "* dummy-code the categorical features"
   ]
  },
  {
   "cell_type": "code",
   "execution_count": 15,
   "metadata": {},
   "outputs": [],
   "source": [
    "# Add normalized columns for the numerical features\n",
    "scaler = MinMaxScaler()\n",
    "for feature in features_numerical:\n",
    "    column = sphist[feature]\n",
    "    newcolumnname = column.name + '_norm'\n",
    "    sphist[newcolumnname] = scaler.fit_transform(column.values.reshape(-1,1))"
   ]
  },
  {
   "cell_type": "code",
   "execution_count": 16,
   "metadata": {},
   "outputs": [
    {
     "data": {
      "text/html": [
       "<div>\n",
       "<style scoped>\n",
       "    .dataframe tbody tr th:only-of-type {\n",
       "        vertical-align: middle;\n",
       "    }\n",
       "\n",
       "    .dataframe tbody tr th {\n",
       "        vertical-align: top;\n",
       "    }\n",
       "\n",
       "    .dataframe thead th {\n",
       "        text-align: right;\n",
       "    }\n",
       "</style>\n",
       "<table border=\"1\" class=\"dataframe\">\n",
       "  <thead>\n",
       "    <tr style=\"text-align: right;\">\n",
       "      <th></th>\n",
       "      <th>Open</th>\n",
       "      <th>High</th>\n",
       "      <th>Low</th>\n",
       "      <th>Close</th>\n",
       "      <th>Volume</th>\n",
       "      <th>Adj Close</th>\n",
       "      <th>meanpast5days</th>\n",
       "      <th>meanpast30days</th>\n",
       "      <th>meanpast365days</th>\n",
       "      <th>ratiopast5vspast365</th>\n",
       "      <th>volprevday</th>\n",
       "      <th>month</th>\n",
       "      <th>meanpast5days_norm</th>\n",
       "      <th>meanpast30days_norm</th>\n",
       "      <th>meanpast365days_norm</th>\n",
       "      <th>ratiopast5vspast365_norm</th>\n",
       "      <th>volprevday_norm</th>\n",
       "    </tr>\n",
       "  </thead>\n",
       "  <tbody>\n",
       "    <tr>\n",
       "      <td>count</td>\n",
       "      <td>16225.000000</td>\n",
       "      <td>16225.000000</td>\n",
       "      <td>16225.000000</td>\n",
       "      <td>16225.000000</td>\n",
       "      <td>1.622500e+04</td>\n",
       "      <td>16225.000000</td>\n",
       "      <td>16225.000000</td>\n",
       "      <td>16225.000000</td>\n",
       "      <td>16225.000000</td>\n",
       "      <td>16225.000000</td>\n",
       "      <td>1.622500e+04</td>\n",
       "      <td>16225.000000</td>\n",
       "      <td>16225.000000</td>\n",
       "      <td>16225.000000</td>\n",
       "      <td>16225.000000</td>\n",
       "      <td>16225.000000</td>\n",
       "      <td>16225.000000</td>\n",
       "    </tr>\n",
       "    <tr>\n",
       "      <td>mean</td>\n",
       "      <td>492.989430</td>\n",
       "      <td>496.111413</td>\n",
       "      <td>489.713924</td>\n",
       "      <td>493.113714</td>\n",
       "      <td>8.118274e+08</td>\n",
       "      <td>493.113714</td>\n",
       "      <td>492.733633</td>\n",
       "      <td>491.147987</td>\n",
       "      <td>470.198776</td>\n",
       "      <td>1.054860</td>\n",
       "      <td>8.115782e+08</td>\n",
       "      <td>6.538059</td>\n",
       "      <td>0.223838</td>\n",
       "      <td>0.224789</td>\n",
       "      <td>0.223429</td>\n",
       "      <td>0.663632</td>\n",
       "      <td>0.070786</td>\n",
       "    </tr>\n",
       "    <tr>\n",
       "      <td>std</td>\n",
       "      <td>556.682208</td>\n",
       "      <td>559.983949</td>\n",
       "      <td>553.154323</td>\n",
       "      <td>556.800880</td>\n",
       "      <td>1.467969e+09</td>\n",
       "      <td>556.800880</td>\n",
       "      <td>556.376404</td>\n",
       "      <td>554.598919</td>\n",
       "      <td>530.252490</td>\n",
       "      <td>0.106731</td>\n",
       "      <td>1.467763e+09</td>\n",
       "      <td>3.428805</td>\n",
       "      <td>0.264086</td>\n",
       "      <td>0.265420</td>\n",
       "      <td>0.262837</td>\n",
       "      <td>0.144675</td>\n",
       "      <td>0.128127</td>\n",
       "    </tr>\n",
       "    <tr>\n",
       "      <td>min</td>\n",
       "      <td>20.959999</td>\n",
       "      <td>20.959999</td>\n",
       "      <td>20.959999</td>\n",
       "      <td>20.959999</td>\n",
       "      <td>6.800000e+05</td>\n",
       "      <td>20.959999</td>\n",
       "      <td>21.152000</td>\n",
       "      <td>21.449333</td>\n",
       "      <td>19.447726</td>\n",
       "      <td>0.565281</td>\n",
       "      <td>6.800000e+05</td>\n",
       "      <td>1.000000</td>\n",
       "      <td>0.000000</td>\n",
       "      <td>0.000000</td>\n",
       "      <td>0.000000</td>\n",
       "      <td>0.000000</td>\n",
       "      <td>0.000000</td>\n",
       "    </tr>\n",
       "    <tr>\n",
       "      <td>25%</td>\n",
       "      <td>86.529999</td>\n",
       "      <td>87.279999</td>\n",
       "      <td>85.849998</td>\n",
       "      <td>86.529999</td>\n",
       "      <td>9.280000e+06</td>\n",
       "      <td>86.529999</td>\n",
       "      <td>86.507999</td>\n",
       "      <td>86.409667</td>\n",
       "      <td>86.496219</td>\n",
       "      <td>0.995095</td>\n",
       "      <td>9.280000e+06</td>\n",
       "      <td>4.000000</td>\n",
       "      <td>0.031021</td>\n",
       "      <td>0.031089</td>\n",
       "      <td>0.033235</td>\n",
       "      <td>0.582619</td>\n",
       "      <td>0.000751</td>\n",
       "    </tr>\n",
       "    <tr>\n",
       "      <td>50%</td>\n",
       "      <td>159.880005</td>\n",
       "      <td>160.500000</td>\n",
       "      <td>158.710007</td>\n",
       "      <td>159.880005</td>\n",
       "      <td>8.201000e+07</td>\n",
       "      <td>159.880005</td>\n",
       "      <td>159.392001</td>\n",
       "      <td>158.110667</td>\n",
       "      <td>141.402795</td>\n",
       "      <td>1.069560</td>\n",
       "      <td>8.201000e+07</td>\n",
       "      <td>7.000000</td>\n",
       "      <td>0.065616</td>\n",
       "      <td>0.065403</td>\n",
       "      <td>0.060451</td>\n",
       "      <td>0.683557</td>\n",
       "      <td>0.007100</td>\n",
       "    </tr>\n",
       "    <tr>\n",
       "      <td>75%</td>\n",
       "      <td>977.460022</td>\n",
       "      <td>985.750000</td>\n",
       "      <td>968.650024</td>\n",
       "      <td>977.590027</td>\n",
       "      <td>8.526000e+08</td>\n",
       "      <td>977.590027</td>\n",
       "      <td>976.965991</td>\n",
       "      <td>970.956004</td>\n",
       "      <td>979.091619</td>\n",
       "      <td>1.124854</td>\n",
       "      <td>8.516000e+08</td>\n",
       "      <td>10.000000</td>\n",
       "      <td>0.453680</td>\n",
       "      <td>0.454415</td>\n",
       "      <td>0.475678</td>\n",
       "      <td>0.758509</td>\n",
       "      <td>0.074280</td>\n",
       "    </tr>\n",
       "    <tr>\n",
       "      <td>max</td>\n",
       "      <td>2130.360107</td>\n",
       "      <td>2134.719971</td>\n",
       "      <td>2126.060059</td>\n",
       "      <td>2130.820068</td>\n",
       "      <td>1.145623e+10</td>\n",
       "      <td>2130.820068</td>\n",
       "      <td>2127.952051</td>\n",
       "      <td>2110.963013</td>\n",
       "      <td>2036.869425</td>\n",
       "      <td>1.303009</td>\n",
       "      <td>1.145623e+10</td>\n",
       "      <td>12.000000</td>\n",
       "      <td>1.000000</td>\n",
       "      <td>1.000000</td>\n",
       "      <td>1.000000</td>\n",
       "      <td>1.000000</td>\n",
       "      <td>1.000000</td>\n",
       "    </tr>\n",
       "  </tbody>\n",
       "</table>\n",
       "</div>"
      ],
      "text/plain": [
       "               Open          High           Low         Close        Volume  \\\n",
       "count  16225.000000  16225.000000  16225.000000  16225.000000  1.622500e+04   \n",
       "mean     492.989430    496.111413    489.713924    493.113714  8.118274e+08   \n",
       "std      556.682208    559.983949    553.154323    556.800880  1.467969e+09   \n",
       "min       20.959999     20.959999     20.959999     20.959999  6.800000e+05   \n",
       "25%       86.529999     87.279999     85.849998     86.529999  9.280000e+06   \n",
       "50%      159.880005    160.500000    158.710007    159.880005  8.201000e+07   \n",
       "75%      977.460022    985.750000    968.650024    977.590027  8.526000e+08   \n",
       "max     2130.360107   2134.719971   2126.060059   2130.820068  1.145623e+10   \n",
       "\n",
       "          Adj Close  meanpast5days  meanpast30days  meanpast365days  \\\n",
       "count  16225.000000   16225.000000    16225.000000     16225.000000   \n",
       "mean     493.113714     492.733633      491.147987       470.198776   \n",
       "std      556.800880     556.376404      554.598919       530.252490   \n",
       "min       20.959999      21.152000       21.449333        19.447726   \n",
       "25%       86.529999      86.507999       86.409667        86.496219   \n",
       "50%      159.880005     159.392001      158.110667       141.402795   \n",
       "75%      977.590027     976.965991      970.956004       979.091619   \n",
       "max     2130.820068    2127.952051     2110.963013      2036.869425   \n",
       "\n",
       "       ratiopast5vspast365    volprevday         month  meanpast5days_norm  \\\n",
       "count         16225.000000  1.622500e+04  16225.000000        16225.000000   \n",
       "mean              1.054860  8.115782e+08      6.538059            0.223838   \n",
       "std               0.106731  1.467763e+09      3.428805            0.264086   \n",
       "min               0.565281  6.800000e+05      1.000000            0.000000   \n",
       "25%               0.995095  9.280000e+06      4.000000            0.031021   \n",
       "50%               1.069560  8.201000e+07      7.000000            0.065616   \n",
       "75%               1.124854  8.516000e+08     10.000000            0.453680   \n",
       "max               1.303009  1.145623e+10     12.000000            1.000000   \n",
       "\n",
       "       meanpast30days_norm  meanpast365days_norm  ratiopast5vspast365_norm  \\\n",
       "count         16225.000000          16225.000000              16225.000000   \n",
       "mean              0.224789              0.223429                  0.663632   \n",
       "std               0.265420              0.262837                  0.144675   \n",
       "min               0.000000              0.000000                  0.000000   \n",
       "25%               0.031089              0.033235                  0.582619   \n",
       "50%               0.065403              0.060451                  0.683557   \n",
       "75%               0.454415              0.475678                  0.758509   \n",
       "max               1.000000              1.000000                  1.000000   \n",
       "\n",
       "       volprevday_norm  \n",
       "count     16225.000000  \n",
       "mean          0.070786  \n",
       "std           0.128127  \n",
       "min           0.000000  \n",
       "25%           0.000751  \n",
       "50%           0.007100  \n",
       "75%           0.074280  \n",
       "max           1.000000  "
      ]
     },
     "execution_count": 16,
     "metadata": {},
     "output_type": "execute_result"
    }
   ],
   "source": [
    "# Show statistics to validate the result\n",
    "sphist.describe()"
   ]
  },
  {
   "cell_type": "markdown",
   "metadata": {},
   "source": [
    "Looks good. All normalized columns range from 0 to 1."
   ]
  },
  {
   "cell_type": "code",
   "execution_count": 17,
   "metadata": {},
   "outputs": [],
   "source": [
    "# Dummy code categorical features (so we can use them for a linear regression model)\n",
    "for feature in features_categorical:\n",
    "    to_add = pd.get_dummies(sphist[feature], prefix = feature, drop_first = False)\n",
    "    sphist = sphist.join(to_add)\n",
    "    sphist = sphist.drop(feature, axis = 1)"
   ]
  },
  {
   "cell_type": "code",
   "execution_count": 18,
   "metadata": {},
   "outputs": [
    {
     "data": {
      "text/html": [
       "<div>\n",
       "<style scoped>\n",
       "    .dataframe tbody tr th:only-of-type {\n",
       "        vertical-align: middle;\n",
       "    }\n",
       "\n",
       "    .dataframe tbody tr th {\n",
       "        vertical-align: top;\n",
       "    }\n",
       "\n",
       "    .dataframe thead th {\n",
       "        text-align: right;\n",
       "    }\n",
       "</style>\n",
       "<table border=\"1\" class=\"dataframe\">\n",
       "  <thead>\n",
       "    <tr style=\"text-align: right;\">\n",
       "      <th></th>\n",
       "      <th>Date</th>\n",
       "      <th>Open</th>\n",
       "      <th>High</th>\n",
       "      <th>Low</th>\n",
       "      <th>Close</th>\n",
       "      <th>Volume</th>\n",
       "      <th>Adj Close</th>\n",
       "      <th>meanpast5days</th>\n",
       "      <th>meanpast30days</th>\n",
       "      <th>meanpast365days</th>\n",
       "      <th>ratiopast5vspast365</th>\n",
       "      <th>volprevday</th>\n",
       "      <th>meanpast5days_norm</th>\n",
       "      <th>meanpast30days_norm</th>\n",
       "      <th>meanpast365days_norm</th>\n",
       "      <th>ratiopast5vspast365_norm</th>\n",
       "      <th>volprevday_norm</th>\n",
       "      <th>month_1</th>\n",
       "      <th>month_2</th>\n",
       "      <th>month_3</th>\n",
       "      <th>month_4</th>\n",
       "      <th>month_5</th>\n",
       "      <th>month_6</th>\n",
       "      <th>month_7</th>\n",
       "      <th>month_8</th>\n",
       "      <th>month_9</th>\n",
       "      <th>month_10</th>\n",
       "      <th>month_11</th>\n",
       "      <th>month_12</th>\n",
       "      <th>dayofweek_Friday</th>\n",
       "      <th>dayofweek_Monday</th>\n",
       "      <th>dayofweek_Thursday</th>\n",
       "      <th>dayofweek_Tuesday</th>\n",
       "      <th>dayofweek_Wednesday</th>\n",
       "    </tr>\n",
       "  </thead>\n",
       "  <tbody>\n",
       "    <tr>\n",
       "      <td>11008</td>\n",
       "      <td>1972-04-18</td>\n",
       "      <td>109.510002</td>\n",
       "      <td>110.639999</td>\n",
       "      <td>109.019997</td>\n",
       "      <td>109.769997</td>\n",
       "      <td>19410000.0</td>\n",
       "      <td>109.769997</td>\n",
       "      <td>109.840001</td>\n",
       "      <td>108.299333</td>\n",
       "      <td>98.767616</td>\n",
       "      <td>1.112105</td>\n",
       "      <td>15390000.0</td>\n",
       "      <td>0.042096</td>\n",
       "      <td>0.041565</td>\n",
       "      <td>0.039317</td>\n",
       "      <td>0.741228</td>\n",
       "      <td>0.001284</td>\n",
       "      <td>0</td>\n",
       "      <td>0</td>\n",
       "      <td>0</td>\n",
       "      <td>1</td>\n",
       "      <td>0</td>\n",
       "      <td>0</td>\n",
       "      <td>0</td>\n",
       "      <td>0</td>\n",
       "      <td>0</td>\n",
       "      <td>0</td>\n",
       "      <td>0</td>\n",
       "      <td>0</td>\n",
       "      <td>0</td>\n",
       "      <td>0</td>\n",
       "      <td>0</td>\n",
       "      <td>1</td>\n",
       "      <td>0</td>\n",
       "    </tr>\n",
       "  </tbody>\n",
       "</table>\n",
       "</div>"
      ],
      "text/plain": [
       "            Date        Open        High         Low       Close      Volume  \\\n",
       "11008 1972-04-18  109.510002  110.639999  109.019997  109.769997  19410000.0   \n",
       "\n",
       "        Adj Close  meanpast5days  meanpast30days  meanpast365days  \\\n",
       "11008  109.769997     109.840001      108.299333        98.767616   \n",
       "\n",
       "       ratiopast5vspast365  volprevday  meanpast5days_norm  \\\n",
       "11008             1.112105  15390000.0            0.042096   \n",
       "\n",
       "       meanpast30days_norm  meanpast365days_norm  ratiopast5vspast365_norm  \\\n",
       "11008             0.041565              0.039317                  0.741228   \n",
       "\n",
       "       volprevday_norm  month_1  month_2  month_3  month_4  month_5  month_6  \\\n",
       "11008         0.001284        0        0        0        1        0        0   \n",
       "\n",
       "       month_7  month_8  month_9  month_10  month_11  month_12  \\\n",
       "11008        0        0        0         0         0         0   \n",
       "\n",
       "       dayofweek_Friday  dayofweek_Monday  dayofweek_Thursday  \\\n",
       "11008                 0                 0                   0   \n",
       "\n",
       "       dayofweek_Tuesday  dayofweek_Wednesday  \n",
       "11008                  1                    0  "
      ]
     },
     "execution_count": 18,
     "metadata": {},
     "output_type": "execute_result"
    }
   ],
   "source": [
    "# Validate result for a date in the past; should be month_4 and dayofweek_Tuesday\n",
    "sphist[sphist['Date'] == '1972-04-18']"
   ]
  },
  {
   "cell_type": "markdown",
   "metadata": {},
   "source": [
    "Looks good.\n",
    "\n",
    "As a final preparation step, let's create some more lists that will be helpful in next steps."
   ]
  },
  {
   "cell_type": "code",
   "execution_count": 19,
   "metadata": {},
   "outputs": [
    {
     "name": "stdout",
     "output_type": "stream",
     "text": [
      "['meanpast5days_norm', 'meanpast30days_norm', 'meanpast365days_norm', 'ratiopast5vspast365_norm', 'volprevday_norm']\n",
      "['month_1', 'month_2', 'month_3', 'month_4', 'month_5', 'month_6', 'month_7', 'month_8', 'month_9', 'month_10', 'month_11', 'month_12']\n",
      "['dayofweek_Friday', 'dayofweek_Monday', 'dayofweek_Thursday', 'dayofweek_Tuesday', 'dayofweek_Wednesday']\n"
     ]
    }
   ],
   "source": [
    "# Create three more lists that we will use in next steps (and print to validate)\n",
    "features_numerical_normalized = sphist.columns[sphist.columns.str.endswith('norm')].tolist()\n",
    "print(features_numerical_normalized)\n",
    "features_month = sphist.columns[sphist.columns.str.startswith('month')].tolist()\n",
    "print(features_month)\n",
    "features_dayofweek = sphist.columns[sphist.columns.str.startswith('day')].tolist()\n",
    "print(features_dayofweek)"
   ]
  },
  {
   "cell_type": "markdown",
   "metadata": {},
   "source": [
    "## 3. Train and use a linear regression model\n",
    "\n",
    "In this section we'll build the linear regression model. The model will be trained first on the 'training' data, then predictions will be done on the 'test' data. By comparing the predicted values with the actual values (in the form of an error metric), we can say something about the quality of the model. We'll do this with several combinations of the features that were added in the previous section.\n",
    "\n",
    "'Close', the closing value of the index on a trading day, will be the target column, the one that we are trying to predict.\n",
    "\n",
    "The error metric that will be used is the 'mean absolute error'. Main reason to select this one is that its value is relatively easy to interpret as a human.\n",
    "\n",
    "### 3.1 Split in train and test\n",
    "\n",
    "Most data will be used to train the model. Testing will be done for the final 2.5 years in the data.\n"
   ]
  },
  {
   "cell_type": "code",
   "execution_count": 20,
   "metadata": {},
   "outputs": [],
   "source": [
    "# Split the data in train (data before 2013) and test (data from 2013 onwards)\n",
    "train = sphist[sphist['Date'] < '2013-01-01']\n",
    "test = sphist[sphist['Date'] >= '2013-01-01']"
   ]
  },
  {
   "cell_type": "code",
   "execution_count": 21,
   "metadata": {},
   "outputs": [
    {
     "data": {
      "text/html": [
       "<div>\n",
       "<style scoped>\n",
       "    .dataframe tbody tr th:only-of-type {\n",
       "        vertical-align: middle;\n",
       "    }\n",
       "\n",
       "    .dataframe tbody tr th {\n",
       "        vertical-align: top;\n",
       "    }\n",
       "\n",
       "    .dataframe thead th {\n",
       "        text-align: right;\n",
       "    }\n",
       "</style>\n",
       "<table border=\"1\" class=\"dataframe\">\n",
       "  <thead>\n",
       "    <tr style=\"text-align: right;\">\n",
       "      <th></th>\n",
       "      <th>Date</th>\n",
       "      <th>Open</th>\n",
       "      <th>High</th>\n",
       "      <th>Low</th>\n",
       "      <th>Close</th>\n",
       "      <th>Volume</th>\n",
       "      <th>Adj Close</th>\n",
       "      <th>meanpast5days</th>\n",
       "      <th>meanpast30days</th>\n",
       "      <th>meanpast365days</th>\n",
       "      <th>ratiopast5vspast365</th>\n",
       "      <th>volprevday</th>\n",
       "      <th>meanpast5days_norm</th>\n",
       "      <th>meanpast30days_norm</th>\n",
       "      <th>meanpast365days_norm</th>\n",
       "      <th>ratiopast5vspast365_norm</th>\n",
       "      <th>volprevday_norm</th>\n",
       "      <th>month_1</th>\n",
       "      <th>month_2</th>\n",
       "      <th>month_3</th>\n",
       "      <th>month_4</th>\n",
       "      <th>month_5</th>\n",
       "      <th>month_6</th>\n",
       "      <th>month_7</th>\n",
       "      <th>month_8</th>\n",
       "      <th>month_9</th>\n",
       "      <th>month_10</th>\n",
       "      <th>month_11</th>\n",
       "      <th>month_12</th>\n",
       "      <th>dayofweek_Friday</th>\n",
       "      <th>dayofweek_Monday</th>\n",
       "      <th>dayofweek_Thursday</th>\n",
       "      <th>dayofweek_Tuesday</th>\n",
       "      <th>dayofweek_Wednesday</th>\n",
       "    </tr>\n",
       "  </thead>\n",
       "  <tbody>\n",
       "    <tr>\n",
       "      <td>741</td>\n",
       "      <td>2012-12-27</td>\n",
       "      <td>1419.829956</td>\n",
       "      <td>1422.800049</td>\n",
       "      <td>1401.800049</td>\n",
       "      <td>1418.099976</td>\n",
       "      <td>2.830180e+09</td>\n",
       "      <td>1418.099976</td>\n",
       "      <td>1431.228003</td>\n",
       "      <td>1408.813000</td>\n",
       "      <td>1326.716494</td>\n",
       "      <td>1.078775</td>\n",
       "      <td>2.285030e+09</td>\n",
       "      <td>0.669297</td>\n",
       "      <td>0.663965</td>\n",
       "      <td>0.647990</td>\n",
       "      <td>0.696048</td>\n",
       "      <td>0.199410</td>\n",
       "      <td>0</td>\n",
       "      <td>0</td>\n",
       "      <td>0</td>\n",
       "      <td>0</td>\n",
       "      <td>0</td>\n",
       "      <td>0</td>\n",
       "      <td>0</td>\n",
       "      <td>0</td>\n",
       "      <td>0</td>\n",
       "      <td>0</td>\n",
       "      <td>0</td>\n",
       "      <td>1</td>\n",
       "      <td>0</td>\n",
       "      <td>0</td>\n",
       "      <td>1</td>\n",
       "      <td>0</td>\n",
       "      <td>0</td>\n",
       "    </tr>\n",
       "    <tr>\n",
       "      <td>740</td>\n",
       "      <td>2012-12-28</td>\n",
       "      <td>1418.099976</td>\n",
       "      <td>1418.099976</td>\n",
       "      <td>1401.579956</td>\n",
       "      <td>1402.430054</td>\n",
       "      <td>2.426680e+09</td>\n",
       "      <td>1402.430054</td>\n",
       "      <td>1427.685986</td>\n",
       "      <td>1410.265332</td>\n",
       "      <td>1326.995836</td>\n",
       "      <td>1.075878</td>\n",
       "      <td>2.830180e+09</td>\n",
       "      <td>0.667616</td>\n",
       "      <td>0.664660</td>\n",
       "      <td>0.648128</td>\n",
       "      <td>0.692122</td>\n",
       "      <td>0.246998</td>\n",
       "      <td>0</td>\n",
       "      <td>0</td>\n",
       "      <td>0</td>\n",
       "      <td>0</td>\n",
       "      <td>0</td>\n",
       "      <td>0</td>\n",
       "      <td>0</td>\n",
       "      <td>0</td>\n",
       "      <td>0</td>\n",
       "      <td>0</td>\n",
       "      <td>0</td>\n",
       "      <td>1</td>\n",
       "      <td>1</td>\n",
       "      <td>0</td>\n",
       "      <td>0</td>\n",
       "      <td>0</td>\n",
       "      <td>0</td>\n",
       "    </tr>\n",
       "    <tr>\n",
       "      <td>739</td>\n",
       "      <td>2012-12-31</td>\n",
       "      <td>1402.430054</td>\n",
       "      <td>1426.739990</td>\n",
       "      <td>1398.109985</td>\n",
       "      <td>1426.189941</td>\n",
       "      <td>3.204330e+09</td>\n",
       "      <td>1426.189941</td>\n",
       "      <td>1419.434009</td>\n",
       "      <td>1411.830001</td>\n",
       "      <td>1327.261562</td>\n",
       "      <td>1.069446</td>\n",
       "      <td>2.426680e+09</td>\n",
       "      <td>0.663699</td>\n",
       "      <td>0.665409</td>\n",
       "      <td>0.648260</td>\n",
       "      <td>0.683402</td>\n",
       "      <td>0.211775</td>\n",
       "      <td>0</td>\n",
       "      <td>0</td>\n",
       "      <td>0</td>\n",
       "      <td>0</td>\n",
       "      <td>0</td>\n",
       "      <td>0</td>\n",
       "      <td>0</td>\n",
       "      <td>0</td>\n",
       "      <td>0</td>\n",
       "      <td>0</td>\n",
       "      <td>0</td>\n",
       "      <td>1</td>\n",
       "      <td>0</td>\n",
       "      <td>1</td>\n",
       "      <td>0</td>\n",
       "      <td>0</td>\n",
       "      <td>0</td>\n",
       "    </tr>\n",
       "  </tbody>\n",
       "</table>\n",
       "</div>"
      ],
      "text/plain": [
       "          Date         Open         High          Low        Close  \\\n",
       "741 2012-12-27  1419.829956  1422.800049  1401.800049  1418.099976   \n",
       "740 2012-12-28  1418.099976  1418.099976  1401.579956  1402.430054   \n",
       "739 2012-12-31  1402.430054  1426.739990  1398.109985  1426.189941   \n",
       "\n",
       "           Volume    Adj Close  meanpast5days  meanpast30days  \\\n",
       "741  2.830180e+09  1418.099976    1431.228003     1408.813000   \n",
       "740  2.426680e+09  1402.430054    1427.685986     1410.265332   \n",
       "739  3.204330e+09  1426.189941    1419.434009     1411.830001   \n",
       "\n",
       "     meanpast365days  ratiopast5vspast365    volprevday  meanpast5days_norm  \\\n",
       "741      1326.716494             1.078775  2.285030e+09            0.669297   \n",
       "740      1326.995836             1.075878  2.830180e+09            0.667616   \n",
       "739      1327.261562             1.069446  2.426680e+09            0.663699   \n",
       "\n",
       "     meanpast30days_norm  meanpast365days_norm  ratiopast5vspast365_norm  \\\n",
       "741             0.663965              0.647990                  0.696048   \n",
       "740             0.664660              0.648128                  0.692122   \n",
       "739             0.665409              0.648260                  0.683402   \n",
       "\n",
       "     volprevday_norm  month_1  month_2  month_3  month_4  month_5  month_6  \\\n",
       "741         0.199410        0        0        0        0        0        0   \n",
       "740         0.246998        0        0        0        0        0        0   \n",
       "739         0.211775        0        0        0        0        0        0   \n",
       "\n",
       "     month_7  month_8  month_9  month_10  month_11  month_12  \\\n",
       "741        0        0        0         0         0         1   \n",
       "740        0        0        0         0         0         1   \n",
       "739        0        0        0         0         0         1   \n",
       "\n",
       "     dayofweek_Friday  dayofweek_Monday  dayofweek_Thursday  \\\n",
       "741                 0                 0                   1   \n",
       "740                 1                 0                   0   \n",
       "739                 0                 1                   0   \n",
       "\n",
       "     dayofweek_Tuesday  dayofweek_Wednesday  \n",
       "741                  0                    0  \n",
       "740                  0                    0  \n",
       "739                  0                    0  "
      ]
     },
     "execution_count": 21,
     "metadata": {},
     "output_type": "execute_result"
    }
   ],
   "source": [
    "# To validate, show the last three rows of train (should be late 2012)\n",
    "train.tail(3)"
   ]
  },
  {
   "cell_type": "code",
   "execution_count": 22,
   "metadata": {},
   "outputs": [
    {
     "data": {
      "text/html": [
       "<div>\n",
       "<style scoped>\n",
       "    .dataframe tbody tr th:only-of-type {\n",
       "        vertical-align: middle;\n",
       "    }\n",
       "\n",
       "    .dataframe tbody tr th {\n",
       "        vertical-align: top;\n",
       "    }\n",
       "\n",
       "    .dataframe thead th {\n",
       "        text-align: right;\n",
       "    }\n",
       "</style>\n",
       "<table border=\"1\" class=\"dataframe\">\n",
       "  <thead>\n",
       "    <tr style=\"text-align: right;\">\n",
       "      <th></th>\n",
       "      <th>Date</th>\n",
       "      <th>Open</th>\n",
       "      <th>High</th>\n",
       "      <th>Low</th>\n",
       "      <th>Close</th>\n",
       "      <th>Volume</th>\n",
       "      <th>Adj Close</th>\n",
       "      <th>meanpast5days</th>\n",
       "      <th>meanpast30days</th>\n",
       "      <th>meanpast365days</th>\n",
       "      <th>ratiopast5vspast365</th>\n",
       "      <th>volprevday</th>\n",
       "      <th>meanpast5days_norm</th>\n",
       "      <th>meanpast30days_norm</th>\n",
       "      <th>meanpast365days_norm</th>\n",
       "      <th>ratiopast5vspast365_norm</th>\n",
       "      <th>volprevday_norm</th>\n",
       "      <th>month_1</th>\n",
       "      <th>month_2</th>\n",
       "      <th>month_3</th>\n",
       "      <th>month_4</th>\n",
       "      <th>month_5</th>\n",
       "      <th>month_6</th>\n",
       "      <th>month_7</th>\n",
       "      <th>month_8</th>\n",
       "      <th>month_9</th>\n",
       "      <th>month_10</th>\n",
       "      <th>month_11</th>\n",
       "      <th>month_12</th>\n",
       "      <th>dayofweek_Friday</th>\n",
       "      <th>dayofweek_Monday</th>\n",
       "      <th>dayofweek_Thursday</th>\n",
       "      <th>dayofweek_Tuesday</th>\n",
       "      <th>dayofweek_Wednesday</th>\n",
       "    </tr>\n",
       "  </thead>\n",
       "  <tbody>\n",
       "    <tr>\n",
       "      <td>738</td>\n",
       "      <td>2013-01-02</td>\n",
       "      <td>1426.189941</td>\n",
       "      <td>1462.430054</td>\n",
       "      <td>1426.189941</td>\n",
       "      <td>1462.420044</td>\n",
       "      <td>4.202600e+09</td>\n",
       "      <td>1462.420044</td>\n",
       "      <td>1418.641992</td>\n",
       "      <td>1414.258667</td>\n",
       "      <td>1327.534055</td>\n",
       "      <td>1.068629</td>\n",
       "      <td>3.204330e+09</td>\n",
       "      <td>0.663324</td>\n",
       "      <td>0.666571</td>\n",
       "      <td>0.648395</td>\n",
       "      <td>0.682296</td>\n",
       "      <td>0.279659</td>\n",
       "      <td>1</td>\n",
       "      <td>0</td>\n",
       "      <td>0</td>\n",
       "      <td>0</td>\n",
       "      <td>0</td>\n",
       "      <td>0</td>\n",
       "      <td>0</td>\n",
       "      <td>0</td>\n",
       "      <td>0</td>\n",
       "      <td>0</td>\n",
       "      <td>0</td>\n",
       "      <td>0</td>\n",
       "      <td>0</td>\n",
       "      <td>0</td>\n",
       "      <td>0</td>\n",
       "      <td>0</td>\n",
       "      <td>1</td>\n",
       "    </tr>\n",
       "    <tr>\n",
       "      <td>737</td>\n",
       "      <td>2013-01-03</td>\n",
       "      <td>1462.420044</td>\n",
       "      <td>1465.469971</td>\n",
       "      <td>1455.530029</td>\n",
       "      <td>1459.369995</td>\n",
       "      <td>3.829730e+09</td>\n",
       "      <td>1459.369995</td>\n",
       "      <td>1425.793994</td>\n",
       "      <td>1417.676668</td>\n",
       "      <td>1327.908247</td>\n",
       "      <td>1.073714</td>\n",
       "      <td>4.202600e+09</td>\n",
       "      <td>0.666718</td>\n",
       "      <td>0.668207</td>\n",
       "      <td>0.648581</td>\n",
       "      <td>0.689188</td>\n",
       "      <td>0.366802</td>\n",
       "      <td>1</td>\n",
       "      <td>0</td>\n",
       "      <td>0</td>\n",
       "      <td>0</td>\n",
       "      <td>0</td>\n",
       "      <td>0</td>\n",
       "      <td>0</td>\n",
       "      <td>0</td>\n",
       "      <td>0</td>\n",
       "      <td>0</td>\n",
       "      <td>0</td>\n",
       "      <td>0</td>\n",
       "      <td>0</td>\n",
       "      <td>0</td>\n",
       "      <td>1</td>\n",
       "      <td>0</td>\n",
       "      <td>0</td>\n",
       "    </tr>\n",
       "    <tr>\n",
       "      <td>736</td>\n",
       "      <td>2013-01-04</td>\n",
       "      <td>1459.369995</td>\n",
       "      <td>1467.939941</td>\n",
       "      <td>1458.989990</td>\n",
       "      <td>1466.469971</td>\n",
       "      <td>3.424290e+09</td>\n",
       "      <td>1466.469971</td>\n",
       "      <td>1433.702002</td>\n",
       "      <td>1420.092668</td>\n",
       "      <td>1328.224877</td>\n",
       "      <td>1.079412</td>\n",
       "      <td>3.829730e+09</td>\n",
       "      <td>0.670472</td>\n",
       "      <td>0.669363</td>\n",
       "      <td>0.648738</td>\n",
       "      <td>0.696912</td>\n",
       "      <td>0.334253</td>\n",
       "      <td>1</td>\n",
       "      <td>0</td>\n",
       "      <td>0</td>\n",
       "      <td>0</td>\n",
       "      <td>0</td>\n",
       "      <td>0</td>\n",
       "      <td>0</td>\n",
       "      <td>0</td>\n",
       "      <td>0</td>\n",
       "      <td>0</td>\n",
       "      <td>0</td>\n",
       "      <td>0</td>\n",
       "      <td>1</td>\n",
       "      <td>0</td>\n",
       "      <td>0</td>\n",
       "      <td>0</td>\n",
       "      <td>0</td>\n",
       "    </tr>\n",
       "  </tbody>\n",
       "</table>\n",
       "</div>"
      ],
      "text/plain": [
       "          Date         Open         High          Low        Close  \\\n",
       "738 2013-01-02  1426.189941  1462.430054  1426.189941  1462.420044   \n",
       "737 2013-01-03  1462.420044  1465.469971  1455.530029  1459.369995   \n",
       "736 2013-01-04  1459.369995  1467.939941  1458.989990  1466.469971   \n",
       "\n",
       "           Volume    Adj Close  meanpast5days  meanpast30days  \\\n",
       "738  4.202600e+09  1462.420044    1418.641992     1414.258667   \n",
       "737  3.829730e+09  1459.369995    1425.793994     1417.676668   \n",
       "736  3.424290e+09  1466.469971    1433.702002     1420.092668   \n",
       "\n",
       "     meanpast365days  ratiopast5vspast365    volprevday  meanpast5days_norm  \\\n",
       "738      1327.534055             1.068629  3.204330e+09            0.663324   \n",
       "737      1327.908247             1.073714  4.202600e+09            0.666718   \n",
       "736      1328.224877             1.079412  3.829730e+09            0.670472   \n",
       "\n",
       "     meanpast30days_norm  meanpast365days_norm  ratiopast5vspast365_norm  \\\n",
       "738             0.666571              0.648395                  0.682296   \n",
       "737             0.668207              0.648581                  0.689188   \n",
       "736             0.669363              0.648738                  0.696912   \n",
       "\n",
       "     volprevday_norm  month_1  month_2  month_3  month_4  month_5  month_6  \\\n",
       "738         0.279659        1        0        0        0        0        0   \n",
       "737         0.366802        1        0        0        0        0        0   \n",
       "736         0.334253        1        0        0        0        0        0   \n",
       "\n",
       "     month_7  month_8  month_9  month_10  month_11  month_12  \\\n",
       "738        0        0        0         0         0         0   \n",
       "737        0        0        0         0         0         0   \n",
       "736        0        0        0         0         0         0   \n",
       "\n",
       "     dayofweek_Friday  dayofweek_Monday  dayofweek_Thursday  \\\n",
       "738                 0                 0                   0   \n",
       "737                 0                 0                   1   \n",
       "736                 1                 0                   0   \n",
       "\n",
       "     dayofweek_Tuesday  dayofweek_Wednesday  \n",
       "738                  0                    1  \n",
       "737                  0                    0  \n",
       "736                  0                    0  "
      ]
     },
     "execution_count": 22,
     "metadata": {},
     "output_type": "execute_result"
    }
   ],
   "source": [
    "# And the first three rows of test (should be early 2013)\n",
    "test.head(3)"
   ]
  },
  {
   "cell_type": "markdown",
   "metadata": {},
   "source": [
    "### 3.2 Build linear regression model\n",
    "\n",
    "We'll create a train-and-test function so that we can later efficiently test with different sets of feautures, and then immediately get the results."
   ]
  },
  {
   "cell_type": "code",
   "execution_count": 23,
   "metadata": {},
   "outputs": [],
   "source": [
    "# Create a function with as inputs the features to use, and as output the mean-absolute-error of the predictions in the test set\n",
    "# For validation purposes, optionally details can be printed\n",
    "\n",
    "def train_and_test (features, printdetails = False):\n",
    "    lr = LinearRegression()\n",
    "    \n",
    "    # Set the target column (the one we try to predict)\n",
    "    target = 'Close'\n",
    "    \n",
    "    # Train the model\n",
    "    lr.fit(train[features], train[target])\n",
    "\n",
    "    # Calculate predictions on test dataset\n",
    "    test_predictions = lr.predict(test[features])\n",
    "    \n",
    "    # Print header\n",
    "    print('Features used:', features)\n",
    "    \n",
    "    # Print details (optionally)\n",
    "    if printdetails:\n",
    "        print('\\nFirst five predictions:\\n')\n",
    "    \n",
    "        # Show a sample: the first 5 predictions vs the first 5 values that it tried to predict:\n",
    "        for i in range(0,5):\n",
    "            print ('Predicted value:', test_predictions[i], '; actual value:', test.iloc[i][target])\n",
    "    \n",
    "        # Show parameters of the model\n",
    "        print ('\\nIntercept:', lr.intercept_)\n",
    "        for i in range(0, len(features)):\n",
    "            print ('Parameter',features[i],': coefficient', lr.coef_[i])\n",
    "    \n",
    "    # Calculate (and return) mean absolute error of the predictions\n",
    "    mean_abs_error = mean_absolute_error(test[target], test_predictions)\n",
    "    return mean_abs_error    "
   ]
  },
  {
   "cell_type": "code",
   "execution_count": 24,
   "metadata": {},
   "outputs": [
    {
     "name": "stdout",
     "output_type": "stream",
     "text": [
      "Features used: ['meanpast5days', 'volprevday']\n",
      "\n",
      "First five predictions:\n",
      "\n",
      "Predicted value: 1418.8918568536956 ; actual value: 1462.420044\n",
      "Predicted value: 1425.5430795646255 ; actual value: 1459.369995\n",
      "Predicted value: 1433.6516407665642 ; actual value: 1466.469971\n",
      "Predicted value: 1443.545083898521 ; actual value: 1461.890015\n",
      "Predicted value: 1455.5132035455617 ; actual value: 1457.150024\n",
      "\n",
      "Intercept: 0.07576413667266024\n",
      "Parameter meanpast5days : coefficient 1.0012764654044253\n",
      "Parameter volprevday : coefficient -5.107922427751727e-10\n",
      "\n",
      "Mean absolute error of the predictions: 16.231536567068034\n"
     ]
    }
   ],
   "source": [
    "# Try out train-and-test with two of the features\n",
    "selected_features = ['meanpast5days', 'volprevday']\n",
    "result = train_and_test (selected_features, printdetails = True)\n",
    "print('\\nMean absolute error of the predictions:', result)"
   ]
  },
  {
   "cell_type": "markdown",
   "metadata": {},
   "source": [
    "Interesting to see the initial results. The mean absolute error is just above 16, however from the first 5 predictions we can already observe there is quite some spread.\n",
    "\n",
    "Earlier we added normalized versions of the numeric features as well. I was actually not 100% sure whether that is even relevant (as I think a linear regression model as such can deal with it and just come with different coefficients but the same results). This is a nice opportunity to check that."
   ]
  },
  {
   "cell_type": "code",
   "execution_count": 25,
   "metadata": {},
   "outputs": [
    {
     "name": "stdout",
     "output_type": "stream",
     "text": [
      "Features used: ['meanpast5days_norm', 'volprevday_norm']\n",
      "\n",
      "First five predictions:\n",
      "\n",
      "Predicted value: 1418.8918568536956 ; actual value: 1462.420044\n",
      "Predicted value: 1425.5430795646257 ; actual value: 1459.369995\n",
      "Predicted value: 1433.6516407665645 ; actual value: 1466.469971\n",
      "Predicted value: 1443.5450838985212 ; actual value: 1461.890015\n",
      "Predicted value: 1455.5132035455617 ; actual value: 1457.150024\n",
      "\n",
      "Intercept: 21.25441659418209\n",
      "Parameter meanpast5days_norm : coefficient 2109.489308178896\n",
      "Parameter volprevday_norm : coefficient -5.851406281040273\n",
      "\n",
      "Mean absolute error of the predictions: 16.231536567068023\n"
     ]
    }
   ],
   "source": [
    "# Check whether normalization matters, by running train-and-test again with the normalized version of the same features as just now\n",
    "selected_features = ['meanpast5days_norm', 'volprevday_norm']\n",
    "result = train_and_test (selected_features, printdetails = True)\n",
    "print('\\nMean absolute error of the predictions:', result)"
   ]
  },
  {
   "cell_type": "markdown",
   "metadata": {},
   "source": [
    "No difference in predictions, so from now on we'll just use the not-normalized features."
   ]
  },
  {
   "cell_type": "markdown",
   "metadata": {},
   "source": [
    "### 3.3 Prepare feature selection (numerical only)\n",
    "\n",
    "To get an understanding of which features to select, let's take a look at the correlation between all (numerical) features, and the target column ('Close')."
   ]
  },
  {
   "cell_type": "code",
   "execution_count": 26,
   "metadata": {},
   "outputs": [
    {
     "data": {
      "text/html": [
       "<div>\n",
       "<style scoped>\n",
       "    .dataframe tbody tr th:only-of-type {\n",
       "        vertical-align: middle;\n",
       "    }\n",
       "\n",
       "    .dataframe tbody tr th {\n",
       "        vertical-align: top;\n",
       "    }\n",
       "\n",
       "    .dataframe thead th {\n",
       "        text-align: right;\n",
       "    }\n",
       "</style>\n",
       "<table border=\"1\" class=\"dataframe\">\n",
       "  <thead>\n",
       "    <tr style=\"text-align: right;\">\n",
       "      <th></th>\n",
       "      <th>meanpast5days</th>\n",
       "      <th>meanpast30days</th>\n",
       "      <th>meanpast365days</th>\n",
       "      <th>ratiopast5vspast365</th>\n",
       "      <th>volprevday</th>\n",
       "      <th>Close</th>\n",
       "    </tr>\n",
       "  </thead>\n",
       "  <tbody>\n",
       "    <tr>\n",
       "      <td>meanpast5days</td>\n",
       "      <td>1.000000</td>\n",
       "      <td>0.999472</td>\n",
       "      <td>0.989235</td>\n",
       "      <td>0.047077</td>\n",
       "      <td>0.773453</td>\n",
       "      <td>0.999793</td>\n",
       "    </tr>\n",
       "    <tr>\n",
       "      <td>meanpast30days</td>\n",
       "      <td>0.999472</td>\n",
       "      <td>1.000000</td>\n",
       "      <td>0.990682</td>\n",
       "      <td>0.037703</td>\n",
       "      <td>0.776759</td>\n",
       "      <td>0.999189</td>\n",
       "    </tr>\n",
       "    <tr>\n",
       "      <td>meanpast365days</td>\n",
       "      <td>0.989235</td>\n",
       "      <td>0.990682</td>\n",
       "      <td>1.000000</td>\n",
       "      <td>-0.057614</td>\n",
       "      <td>0.805496</td>\n",
       "      <td>0.988870</td>\n",
       "    </tr>\n",
       "    <tr>\n",
       "      <td>ratiopast5vspast365</td>\n",
       "      <td>0.047077</td>\n",
       "      <td>0.037703</td>\n",
       "      <td>-0.057614</td>\n",
       "      <td>1.000000</td>\n",
       "      <td>-0.150440</td>\n",
       "      <td>0.047782</td>\n",
       "    </tr>\n",
       "    <tr>\n",
       "      <td>volprevday</td>\n",
       "      <td>0.773453</td>\n",
       "      <td>0.776759</td>\n",
       "      <td>0.805496</td>\n",
       "      <td>-0.150440</td>\n",
       "      <td>1.000000</td>\n",
       "      <td>0.772698</td>\n",
       "    </tr>\n",
       "    <tr>\n",
       "      <td>Close</td>\n",
       "      <td>0.999793</td>\n",
       "      <td>0.999189</td>\n",
       "      <td>0.988870</td>\n",
       "      <td>0.047782</td>\n",
       "      <td>0.772698</td>\n",
       "      <td>1.000000</td>\n",
       "    </tr>\n",
       "  </tbody>\n",
       "</table>\n",
       "</div>"
      ],
      "text/plain": [
       "                     meanpast5days  meanpast30days  meanpast365days  \\\n",
       "meanpast5days             1.000000        0.999472         0.989235   \n",
       "meanpast30days            0.999472        1.000000         0.990682   \n",
       "meanpast365days           0.989235        0.990682         1.000000   \n",
       "ratiopast5vspast365       0.047077        0.037703        -0.057614   \n",
       "volprevday                0.773453        0.776759         0.805496   \n",
       "Close                     0.999793        0.999189         0.988870   \n",
       "\n",
       "                     ratiopast5vspast365  volprevday     Close  \n",
       "meanpast5days                   0.047077    0.773453  0.999793  \n",
       "meanpast30days                  0.037703    0.776759  0.999189  \n",
       "meanpast365days                -0.057614    0.805496  0.988870  \n",
       "ratiopast5vspast365             1.000000   -0.150440  0.047782  \n",
       "volprevday                     -0.150440    1.000000  0.772698  \n",
       "Close                           0.047782    0.772698  1.000000  "
      ]
     },
     "execution_count": 26,
     "metadata": {},
     "output_type": "execute_result"
    }
   ],
   "source": [
    "# Calculate and show correlation between all numerical columns, and the target column\n",
    "relevant_columns = features_numerical.copy()\n",
    "relevant_columns.append('Close')\n",
    "\n",
    "correlation_matrix = sphist[relevant_columns].corr()\n",
    "correlation_matrix"
   ]
  },
  {
   "cell_type": "markdown",
   "metadata": {},
   "source": [
    "Observations:\n",
    "* The mean value over the past N days are strongly correlated with Close, with the mean of the past 5 days being most correlated (not really surprising)\n",
    "* These mean values (for 5, 30 and 365 days) are also strongly correlated with each other\n",
    "* The volume of the previous day has a lower correlation with Close, but still it is quite correlated\n",
    "* The ratio between the mean-past-5 and mean-past-365 has hardly any correlation with Close"
   ]
  },
  {
   "cell_type": "markdown",
   "metadata": {},
   "source": [
    "### 3.4 Test with various selections of numerical features\n",
    "\n",
    "We'll use what we learnt from the correlation matrix, by running train-and-test with different selections of numeric features, then compare the results."
   ]
  },
  {
   "cell_type": "code",
   "execution_count": 27,
   "metadata": {},
   "outputs": [
    {
     "name": "stdout",
     "output_type": "stream",
     "text": [
      "Features used: ['meanpast5days']\n",
      "Mean absolute error of the predictions: 16.267878754475266\n"
     ]
    }
   ],
   "source": [
    "# Univariate model, using the mostly correlated feature only\n",
    "selected_features = ['meanpast5days']\n",
    "result = train_and_test (selected_features)\n",
    "print('Mean absolute error of the predictions:', result)"
   ]
  },
  {
   "cell_type": "markdown",
   "metadata": {},
   "source": [
    "That gives a worse result than the original test (that also included volume-of-the-previous-day)."
   ]
  },
  {
   "cell_type": "code",
   "execution_count": 28,
   "metadata": {},
   "outputs": [
    {
     "name": "stdout",
     "output_type": "stream",
     "text": [
      "Features used: ['meanpast5days', 'meanpast30days', 'meanpast365days']\n",
      "Mean absolute error of the predictions: 16.14243964355453\n"
     ]
    }
   ],
   "source": [
    "# The three closely related features (being all of the 'mean of the past XX days' features) \n",
    "selected_features = ['meanpast5days', 'meanpast30days', 'meanpast365days']\n",
    "result = train_and_test (selected_features)\n",
    "print('Mean absolute error of the predictions:', result)"
   ]
  },
  {
   "cell_type": "markdown",
   "metadata": {},
   "source": [
    "That gives a better result, the best so far."
   ]
  },
  {
   "cell_type": "code",
   "execution_count": 29,
   "metadata": {},
   "outputs": [
    {
     "name": "stdout",
     "output_type": "stream",
     "text": [
      "Features used: ['meanpast5days', 'meanpast30days', 'meanpast365days', 'ratiopast5vspast365']\n",
      "Mean absolute error of the predictions: 16.139353266447593\n"
     ]
    }
   ],
   "source": [
    "# Those same features, and adding the 'ratio' feature that is hardly correlated\n",
    "selected_features = ['meanpast5days', 'meanpast30days', 'meanpast365days', 'ratiopast5vspast365']\n",
    "result = train_and_test (selected_features)\n",
    "print('Mean absolute error of the predictions:', result)"
   ]
  },
  {
   "cell_type": "markdown",
   "metadata": {},
   "source": [
    "Somewhat surprisingly, this addition improves the result (be it slightly)."
   ]
  },
  {
   "cell_type": "code",
   "execution_count": 30,
   "metadata": {},
   "outputs": [
    {
     "name": "stdout",
     "output_type": "stream",
     "text": [
      "Features used: ['meanpast5days', 'meanpast30days', 'meanpast365days', 'volprevday']\n",
      "Mean absolute error of the predictions: 16.147236193522932\n"
     ]
    }
   ],
   "source": [
    "# The three 'past NN days' feautures, and the trading volume\n",
    "selected_features = ['meanpast5days', 'meanpast30days', 'meanpast365days', 'volprevday']\n",
    "result = train_and_test (selected_features)\n",
    "print('Mean absolute error of the predictions:', result)"
   ]
  },
  {
   "cell_type": "markdown",
   "metadata": {},
   "source": [
    "Bit worse again."
   ]
  },
  {
   "cell_type": "code",
   "execution_count": 31,
   "metadata": {},
   "outputs": [
    {
     "name": "stdout",
     "output_type": "stream",
     "text": [
      "Features used: ['meanpast5days', 'meanpast30days', 'meanpast365days', 'ratiopast5vspast365', 'volprevday']\n",
      "Mean absolute error of the predictions: 16.14418314730289\n"
     ]
    }
   ],
   "source": [
    "# All (numerical) features\n",
    "selected_features = features_numerical\n",
    "result = train_and_test (selected_features)\n",
    "print('Mean absolute error of the predictions:', result)"
   ]
  },
  {
   "cell_type": "markdown",
   "metadata": {},
   "source": [
    "Not the best option, but not far off.\n",
    "\n",
    "Altogether, the differences in terms of prediction accuracy between the various selections of features are actually very minimal. The values of Mean absolute error are ranging from 16.14 to 16.26."
   ]
  },
  {
   "cell_type": "markdown",
   "metadata": {},
   "source": [
    "### 3.5 Adding categorical features (month, day)\n",
    "\n",
    "In this section we'll explore whether the categorical features (month in the year, day of the week) can improve the predictions.\n",
    "\n",
    "Which is a matter of doing more runs of train-and-test, with different selections of features."
   ]
  },
  {
   "cell_type": "code",
   "execution_count": 32,
   "metadata": {},
   "outputs": [
    {
     "name": "stdout",
     "output_type": "stream",
     "text": [
      "Features used: ['dayofweek_Friday', 'dayofweek_Monday', 'dayofweek_Thursday', 'dayofweek_Tuesday', 'dayofweek_Wednesday']\n",
      "\n",
      "Mean absolute error of the predictions: 1447.8230176860623\n"
     ]
    }
   ],
   "source": [
    "# Run train-and-test with only 'day of the week' as predictor\n",
    "selected_features = features_dayofweek\n",
    "result = train_and_test (selected_features)\n",
    "print('\\nMean absolute error of the predictions:', result)"
   ]
  },
  {
   "cell_type": "code",
   "execution_count": 33,
   "metadata": {},
   "outputs": [
    {
     "name": "stdout",
     "output_type": "stream",
     "text": [
      "Features used: ['month_1', 'month_2', 'month_3', 'month_4', 'month_5', 'month_6', 'month_7', 'month_8', 'month_9', 'month_10', 'month_11', 'month_12']\n",
      "\n",
      "Mean absolute error of the predictions: 1447.9070839918809\n"
     ]
    }
   ],
   "source": [
    "# Run train-and-test with only 'month' as predictor\n",
    "selected_features = features_month\n",
    "result = train_and_test (selected_features)\n",
    "print('\\nMean absolute error of the predictions:', result)"
   ]
  },
  {
   "cell_type": "markdown",
   "metadata": {},
   "source": [
    "Obviously by themselves these are very bad predictors.\n",
    "The question is whether they **add** something to the model with numerical features."
   ]
  },
  {
   "cell_type": "code",
   "execution_count": 34,
   "metadata": {},
   "outputs": [
    {
     "name": "stdout",
     "output_type": "stream",
     "text": [
      "Features used: ['meanpast5days', 'meanpast30days', 'meanpast365days', 'ratiopast5vspast365', 'month_1', 'month_2', 'month_3', 'month_4', 'month_5', 'month_6', 'month_7', 'month_8', 'month_9', 'month_10', 'month_11', 'month_12', 'dayofweek_Friday', 'dayofweek_Monday', 'dayofweek_Thursday', 'dayofweek_Tuesday', 'dayofweek_Wednesday']\n",
      "\n",
      "Mean absolute error of the predictions: 16.116063797159224\n"
     ]
    }
   ],
   "source": [
    "# Use the best performing set of numerical features, and add the categorical features to that\n",
    "selected_features = ['meanpast5days', 'meanpast30days', 'meanpast365days', 'ratiopast5vspast365'] + features_month + features_dayofweek\n",
    "result = train_and_test (selected_features)\n",
    "print('\\nMean absolute error of the predictions:', result)"
   ]
  },
  {
   "cell_type": "markdown",
   "metadata": {},
   "source": [
    "This model is indeed a bit more accurate, the Mean absolute error went down from 16.139 tot 16.116.\n",
    "\n",
    "Let's run this again, while printing more details."
   ]
  },
  {
   "cell_type": "code",
   "execution_count": 35,
   "metadata": {},
   "outputs": [
    {
     "name": "stdout",
     "output_type": "stream",
     "text": [
      "Features used: ['meanpast5days', 'meanpast30days', 'meanpast365days', 'ratiopast5vspast365', 'month_1', 'month_2', 'month_3', 'month_4', 'month_5', 'month_6', 'month_7', 'month_8', 'month_9', 'month_10', 'month_11', 'month_12', 'dayofweek_Friday', 'dayofweek_Monday', 'dayofweek_Thursday', 'dayofweek_Tuesday', 'dayofweek_Wednesday']\n",
      "\n",
      "First five predictions:\n",
      "\n",
      "Predicted value: 1418.8718327958716 ; actual value: 1462.420044\n",
      "Predicted value: 1426.3343997845993 ; actual value: 1459.369995\n",
      "Predicted value: 1434.5588723707083 ; actual value: 1466.469971\n",
      "Predicted value: 1444.7170850157065 ; actual value: 1461.890015\n",
      "Predicted value: 1457.463862959791 ; actual value: 1457.150024\n",
      "\n",
      "Intercept: 0.8428777193104793\n",
      "Parameter meanpast5days : coefficient 1.077644621442313\n",
      "Parameter meanpast30days : coefficient -0.07620494265263617\n",
      "Parameter meanpast365days : coefficient -0.001495907719348779\n",
      "Parameter ratiopast5vspast365 : coefficient -0.6280743902513699\n",
      "Parameter month_1 : coefficient -0.38386973327402485\n",
      "Parameter month_2 : coefficient -0.23514905419106394\n",
      "Parameter month_3 : coefficient 0.5319186441217032\n",
      "Parameter month_4 : coefficient 0.44513874250003316\n",
      "Parameter month_5 : coefficient -0.4430906054711919\n",
      "Parameter month_6 : coefficient -0.28408547626435854\n",
      "Parameter month_7 : coefficient 0.04906420109172419\n",
      "Parameter month_8 : coefficient -0.3331661421984838\n",
      "Parameter month_9 : coefficient -0.6303787329581445\n",
      "Parameter month_10 : coefficient 0.15534711800749998\n",
      "Parameter month_11 : coefficient 0.480058122882412\n",
      "Parameter month_12 : coefficient 0.6482129157538958\n",
      "Parameter dayofweek_Friday : coefficient -0.038453585859573446\n",
      "Parameter dayofweek_Monday : coefficient -0.10066346714830249\n",
      "Parameter dayofweek_Thursday : coefficient 0.07093248100712432\n",
      "Parameter dayofweek_Tuesday : coefficient 0.016724565560033537\n",
      "Parameter dayofweek_Wednesday : coefficient 0.05146000644071826\n",
      "\n",
      "Mean absolute error of the predictions: 16.116063797159224\n"
     ]
    }
   ],
   "source": [
    "# Best feature selection (numeric and categorical), printing details.\n",
    "selected_features = ['meanpast5days', 'meanpast30days', 'meanpast365days', 'ratiopast5vspast365'] + features_month + features_dayofweek\n",
    "result = train_and_test (selected_features, printdetails = True)\n",
    "print('\\nMean absolute error of the predictions:', result)"
   ]
  },
  {
   "cell_type": "markdown",
   "metadata": {},
   "source": [
    "It is interesting to see the parameters for the months and days. E.g. that Friday, and especially Monday, are (historically) not the best trading days if you are looking for an increasing stock index."
   ]
  },
  {
   "cell_type": "markdown",
   "metadata": {},
   "source": [
    "## 4. Trying to improve the model\n",
    "\n",
    "In this section, let us try to improve the model performance not by changing the feature selection, but by:\n",
    "* using a rolling horizon\n",
    "* using *less* historical data\n",
    "\n",
    "\n",
    "### 4.1 Rolling horizon\n",
    "\n",
    "The model so far used all the data up to 31-12-2012 for training, and then this trained model was used for predictions for all dates from 01-01-2013 onwards.\n",
    "\n",
    "This is also implies that the most recent data is not used at all when doing predictions: also for a date in e.g. 2015, a prediction is made by a model that was trained on data up to 2012, ignoring all that happened since then.\n",
    "\n",
    "Let's create an alternative model where for each prediction we use all historic data until that date. We kind of simulate what we could do in practice: every day train the model with the data known at that point, and then predict what will happen this day.\n",
    "\n",
    "We'll implement this via two new functions, enabling to efficiently train and test after that."
   ]
  },
  {
   "cell_type": "code",
   "execution_count": 36,
   "metadata": {},
   "outputs": [],
   "source": [
    "# Create a function with as inputs the features to use, the date for which to predict, and as output the predicted value\n",
    "# Function needs to be robust against an input date which is not a trading date (weekends, public holidays)\n",
    "\n",
    "def train_and_predict (features, datetopredict, printdetails = False):\n",
    "    lr = LinearRegression()\n",
    "    \n",
    "    # Set the target column (the one we try to predict)\n",
    "    target = 'Close'\n",
    "    \n",
    "    # Create train data: all date before the date-to-predict\n",
    "    train = sphist[sphist['Date'] < datetopredict ]\n",
    "    \n",
    "    # Train the model\n",
    "    lr.fit(train[features], train[target])\n",
    "    \n",
    "    # Create test date: the row of the date-to-predict\n",
    "    # Ot, the first date thereafter in case this was not trading day\n",
    "    test = sphist[sphist['Date'] >= datetopredict ].iloc[0:1]\n",
    "          \n",
    "    # Calculate prediction \n",
    "    test_prediction = lr.predict(test[features])\n",
    "    prediction = test_prediction[0]\n",
    "    \n",
    "    # (optional) Show the date for which a prediction was made (the first available date after datetopredict)\n",
    "    if printdetails:\n",
    "        print('Calculated prediction for', test.iloc[0].loc['Date'].date())\n",
    "    \n",
    "    return prediction   "
   ]
  },
  {
   "cell_type": "code",
   "execution_count": 37,
   "metadata": {},
   "outputs": [
    {
     "name": "stdout",
     "output_type": "stream",
     "text": [
      "Calculated prediction for 2013-01-02\n"
     ]
    },
    {
     "data": {
      "text/plain": [
       "1418.8918568536956"
      ]
     },
     "execution_count": 37,
     "metadata": {},
     "output_type": "execute_result"
    }
   ],
   "source": [
    "# Test it, by trying this for 2013-01-01\n",
    "# Since this was the first date in our original test test, the result should still be identical as the 'first prediction' earlier on\n",
    "selected_features = ['meanpast5days', 'volprevday']\n",
    "train_and_predict(selected_features, '2013-01-01', printdetails = True)"
   ]
  },
  {
   "cell_type": "markdown",
   "metadata": {},
   "source": [
    "The predicted value is indeed the same. Also we can see that while the input date was 2013-01-01, the prediction made is actually for the day thereafter. Which makes sense since January 1st is a public holiday."
   ]
  },
  {
   "cell_type": "code",
   "execution_count": 38,
   "metadata": {},
   "outputs": [
    {
     "name": "stdout",
     "output_type": "stream",
     "text": [
      "Calculated prediction for 2013-01-02\n"
     ]
    },
    {
     "data": {
      "text/plain": [
       "1418.8718327958718"
      ]
     },
     "execution_count": 38,
     "metadata": {},
     "output_type": "execute_result"
    }
   ],
   "source": [
    "# To be even more certain of the correctness of the new function, do another test, with different features\n",
    "selected_features = ['meanpast5days', 'meanpast30days', 'meanpast365days', 'ratiopast5vspast365'] + features_month + features_dayofweek\n",
    "train_and_predict(selected_features, '2013-01-01', printdetails = True)"
   ]
  },
  {
   "cell_type": "markdown",
   "metadata": {},
   "source": [
    "Looks good, predicted values are the same as above.\n",
    "\n",
    "Let's now try for one of the next dates in 2013. Expectation is now that the outcome is just a bit different than what we saw above."
   ]
  },
  {
   "cell_type": "code",
   "execution_count": 39,
   "metadata": {},
   "outputs": [
    {
     "name": "stdout",
     "output_type": "stream",
     "text": [
      "Calculated prediction for 2013-01-04\n"
     ]
    },
    {
     "data": {
      "text/plain": [
       "1434.6377579280522"
      ]
     },
     "execution_count": 39,
     "metadata": {},
     "output_type": "execute_result"
    }
   ],
   "source": [
    "# Run the prediction function (with rolling horizon) for 2013-01-04, being the 3rd trading day of 2013.\n",
    "selected_features = ['meanpast5days', 'meanpast30days', 'meanpast365days', 'ratiopast5vspast365'] + features_month + features_dayofweek\n",
    "train_and_predict(selected_features, '2013-01-04', printdetails = True)"
   ]
  },
  {
   "cell_type": "markdown",
   "metadata": {},
   "source": [
    "Value is indeed not identical than the original (3rd) prediction, but just a bit different. That is not truly a proof of correctness, but at least an indication that this model indeed does something different than the previous one."
   ]
  },
  {
   "cell_type": "markdown",
   "metadata": {},
   "source": [
    "Next, let's create a function that can execute the above for a *range* of dates, calculate the error for each prediction, and the mean absolute error.\n",
    "\n",
    "The \"range\" is introduced to be able to test this for a smaller sample first before applying this for all dates in 2013 onwards, as doing that may take a while: for every row, the model is trained separately!"
   ]
  },
  {
   "cell_type": "code",
   "execution_count": 40,
   "metadata": {},
   "outputs": [],
   "source": [
    "# Create a function that, for every date in the input date range, trains the model (with input features), and creates a prediction.\n",
    "# The mean absolute error of all predictions is calculated.\n",
    "\n",
    "# As the function to calculate a prediction for one date predicts for 'the next trading date', now we need to ensure we do not create duplicate predictions\n",
    "\n",
    "def test_for_daterange (features, startdate, enddate, printdetails = False):\n",
    "    # Convert dates into date-objects\n",
    "    startdate_obj = datetime.strptime(startdate, \"%Y-%m-%d\")\n",
    "    enddate_obj = datetime.strptime(enddate, \"%Y-%m-%d\")\n",
    "    \n",
    "    # Select all rows for which to create a prediction\n",
    "    # (So at this point the days for which there is no record are excluded.)\n",
    "    rows_to_predict = sphist[(sphist['Date'] >= startdate) & (sphist['Date'] <= enddate)]\n",
    "    dates_to_predict = rows_to_predict['Date']\n",
    "    \n",
    "    print('Features used:', features, '\\n')\n",
    "    \n",
    "    # Create an array with the actuals for all the dates\n",
    "    actuals = rows_to_predict['Close'].to_numpy()\n",
    "    \n",
    "    # Create an (empty) array with the predictions\n",
    "    predictions = []\n",
    "    \n",
    "    # For each date, get the prediction (by calling the function created for that) and append to the array with predictions\n",
    "    for one_date in dates_to_predict:\n",
    "        prediction = train_and_predict(features, one_date)\n",
    "        predictions.append(prediction)\n",
    "        \n",
    "        # (optional) Print predicted and actual value\n",
    "        if printdetails:\n",
    "            this_date_actual = sphist[sphist['Date']==one_date]['Close'].values[0]\n",
    "            print ('For date', one_date.date(), 'the predicted value would be', prediction, 'and the actual turned out to be', this_date_actual)\n",
    "        \n",
    "    # Calculate and return the mean absolute error of the predictions\n",
    "    mean_abs_error = mean_absolute_error(actuals, predictions)\n",
    "    return mean_abs_error"
   ]
  },
  {
   "cell_type": "code",
   "execution_count": 41,
   "metadata": {},
   "outputs": [
    {
     "name": "stdout",
     "output_type": "stream",
     "text": [
      "Features used: ['meanpast5days', 'meanpast30days', 'meanpast365days', 'ratiopast5vspast365', 'month_1', 'month_2', 'month_3', 'month_4', 'month_5', 'month_6', 'month_7', 'month_8', 'month_9', 'month_10', 'month_11', 'month_12', 'dayofweek_Friday', 'dayofweek_Monday', 'dayofweek_Thursday', 'dayofweek_Tuesday', 'dayofweek_Wednesday'] \n",
      "\n",
      "For date 2013-01-02 the predicted value would be 1418.8718327958718 and the actual turned out to be 1462.420044\n",
      "For date 2013-01-03 the predicted value would be 1426.3791381261572 and the actual turned out to be 1459.369995\n",
      "For date 2013-01-04 the predicted value would be 1434.6377579280522 and the actual turned out to be 1466.469971\n",
      "For date 2013-01-07 the predicted value would be 1444.8305422011963 and the actual turned out to be 1461.890015\n",
      "For date 2013-01-08 the predicted value would be 1457.5968741460215 and the actual turned out to be 1457.150024\n",
      "For date 2013-01-09 the predicted value would be 1464.193081549576 and the actual turned out to be 1461.02002\n",
      "For date 2013-01-10 the predicted value would be 1463.764304883688 and the actual turned out to be 1472.119995\n",
      "\n",
      "Mean absolute error of the predictions: 19.62947939437598\n"
     ]
    }
   ],
   "source": [
    "# Test it, by running this for the first 10 days of 2013\n",
    "\n",
    "selected_features = ['meanpast5days', 'meanpast30days', 'meanpast365days', 'ratiopast5vspast365'] + features_month + features_dayofweek\n",
    "startdate = '2013-01-01'\n",
    "enddate = '2013-01-10'\n",
    "result = test_for_daterange(selected_features, startdate, enddate, printdetails = True)\n",
    "print('\\nMean absolute error of the predictions:', result)\n"
   ]
  },
  {
   "cell_type": "markdown",
   "metadata": {},
   "source": [
    "That looks as expected:\n",
    "* the date range looks realistic, with gaps for public holidays and weekends, however without any dates double\n",
    "* the predictions for 2 Jan and 4 Jan comply with the predictions when testing the function for one date\n",
    "* the actuals comply with the original data\n",
    "\n",
    "As it looks like our function works, let's now run this for all dates from 2013-01-01 until the end. Then we can compare the resulting Mean absolute error with the original tests where the model was only trained on all date before 2013 (instead of with this rolling horizon), and testing with also done for all dates from 2013-01-01 onwards."
   ]
  },
  {
   "cell_type": "code",
   "execution_count": 42,
   "metadata": {},
   "outputs": [
    {
     "name": "stdout",
     "output_type": "stream",
     "text": [
      "Features used: ['meanpast5days', 'meanpast30days', 'meanpast365days', 'ratiopast5vspast365', 'month_1', 'month_2', 'month_3', 'month_4', 'month_5', 'month_6', 'month_7', 'month_8', 'month_9', 'month_10', 'month_11', 'month_12', 'dayofweek_Friday', 'dayofweek_Monday', 'dayofweek_Thursday', 'dayofweek_Tuesday', 'dayofweek_Wednesday'] \n",
      "\n",
      "\n",
      "Mean absolute error of the predictions: 16.06348896887097\n"
     ]
    }
   ],
   "source": [
    "# Run 'predict with rolling horizon' for all dates from 2013-01-01 until the end \n",
    "\n",
    "selected_features = ['meanpast5days', 'meanpast30days', 'meanpast365days', 'ratiopast5vspast365'] + features_month + features_dayofweek\n",
    "startdate = '2013-01-01'\n",
    "enddate = '2015-12-07'\n",
    "result = test_for_daterange(selected_features, startdate, enddate, printdetails = False)\n",
    "print('\\nMean absolute error of the predictions:', result)"
   ]
  },
  {
   "cell_type": "markdown",
   "metadata": {},
   "source": [
    "The result is... slightly disappointing. Yes, the Mean absolute error went down a tiny bit again (from 16.116 to 16.063), but not that much."
   ]
  },
  {
   "cell_type": "markdown",
   "metadata": {},
   "source": [
    "### 4.2 Use less historical data\n",
    "\n",
    "So far we've always trained the model with lots of historical data, going back as far as 1951.\n",
    "\n",
    "One may wonder till what extent what happened up to 60+ years ago to the index is actually representative. And whether model improvement might improve in case we use less historical data instead.\n",
    "\n",
    "Let's give this a try. We'll still use the 'rolling horizon' approach, but train the model only with data of (approximately) the past two years each time."
   ]
  },
  {
   "cell_type": "code",
   "execution_count": 43,
   "metadata": {},
   "outputs": [],
   "source": [
    "# Create UPDATED function for train-and-predict (with rolling horizon), which uses less historical data\n",
    "# (Only the updated part is commented)\n",
    "\n",
    "def train_and_predict_lesshistory (features, datetopredict, printdetails = False):\n",
    "    lr = LinearRegression()\n",
    "    target = 'Close'\n",
    "    train = sphist[sphist['Date'] < datetopredict ]\n",
    "    \n",
    "    # Take only the last 500 rows (approx 2 years)\n",
    "    train = train.iloc[-500:]\n",
    "       \n",
    "    lr.fit(train[features], train[target])\n",
    "    test = sphist[sphist['Date'] >= datetopredict ].iloc[0:1]\n",
    "    test_prediction = lr.predict(test[features])\n",
    "    prediction = test_prediction[0]\n",
    "    if printdetails:\n",
    "        print('Calculated prediction for', test.iloc[0].loc['Date'].date())\n",
    "    return prediction   "
   ]
  },
  {
   "cell_type": "code",
   "execution_count": 44,
   "metadata": {},
   "outputs": [
    {
     "name": "stdout",
     "output_type": "stream",
     "text": [
      "Calculated prediction for 2013-01-02\n"
     ]
    },
    {
     "data": {
      "text/plain": [
       "1425.5611026523827"
      ]
     },
     "execution_count": 44,
     "metadata": {},
     "output_type": "execute_result"
    }
   ],
   "source": [
    "# Test UPDATED function for train-and-predict, with our favorite feature set\n",
    "selected_features = ['meanpast5days', 'meanpast30days', 'meanpast365days', 'ratiopast5vspast365'] + features_month + features_dayofweek\n",
    "train_and_predict_lesshistory(selected_features, '2013-01-01', printdetails = True)"
   ]
  },
  {
   "cell_type": "code",
   "execution_count": 45,
   "metadata": {},
   "outputs": [
    {
     "name": "stdout",
     "output_type": "stream",
     "text": [
      "Calculated prediction for 2013-01-02\n"
     ]
    },
    {
     "data": {
      "text/plain": [
       "1418.8718327958718"
      ]
     },
     "execution_count": 45,
     "metadata": {},
     "output_type": "execute_result"
    }
   ],
   "source": [
    "# To compare, re-run ORIGINAL function for train-and-predict\n",
    "selected_features = ['meanpast5days', 'meanpast30days', 'meanpast365days', 'ratiopast5vspast365'] + features_month + features_dayofweek\n",
    "train_and_predict(selected_features, '2013-01-01', printdetails = True)"
   ]
  },
  {
   "cell_type": "markdown",
   "metadata": {},
   "source": [
    "That is quite different...!\n",
    "\n",
    "Let's now also create an updated function that iterates over a date range (which calls the updated function for individual predictions, using less history) ."
   ]
  },
  {
   "cell_type": "code",
   "execution_count": 46,
   "metadata": {},
   "outputs": [],
   "source": [
    "# Create UPDATED function for testing-for-date range (with rolling horizon), which uses less historical data\n",
    "# (Only the updated part is commented)\n",
    "\n",
    "def test_for_daterange_lesshistory (features, startdate, enddate, printdetails = False):\n",
    "    startdate_obj = datetime.strptime(startdate, \"%Y-%m-%d\")\n",
    "    enddate_obj = datetime.strptime(enddate, \"%Y-%m-%d\")\n",
    "    rows_to_predict = sphist[(sphist['Date'] >= startdate) & (sphist['Date'] <= enddate)]\n",
    "    dates_to_predict = rows_to_predict['Date']\n",
    "    print('Features used:', features, '\\n')\n",
    "    actuals = rows_to_predict['Close'].to_numpy()\n",
    "    predictions = []\n",
    "    for one_date in dates_to_predict:\n",
    "\n",
    "        # To predict, call the UPDATED version of train_and_predict (that uses less history)\n",
    "        prediction = train_and_predict_lesshistory(features, one_date)\n",
    "\n",
    "        predictions.append(prediction)\n",
    "        if printdetails:\n",
    "            this_date_actual = 123\n",
    "            this_date_actual = sphist[sphist['Date']==one_date]['Close'].values[0]\n",
    "            print ('For date', one_date.date(), 'the predicted value would be', prediction, 'and the actual turned out to be', this_date_actual)\n",
    "    mean_abs_error = mean_absolute_error(actuals, predictions)\n",
    "    return mean_abs_error"
   ]
  },
  {
   "cell_type": "code",
   "execution_count": 47,
   "metadata": {},
   "outputs": [
    {
     "name": "stdout",
     "output_type": "stream",
     "text": [
      "Features used: ['meanpast5days', 'meanpast30days', 'meanpast365days', 'ratiopast5vspast365', 'month_1', 'month_2', 'month_3', 'month_4', 'month_5', 'month_6', 'month_7', 'month_8', 'month_9', 'month_10', 'month_11', 'month_12', 'dayofweek_Friday', 'dayofweek_Monday', 'dayofweek_Thursday', 'dayofweek_Tuesday', 'dayofweek_Wednesday'] \n",
      "\n",
      "For date 2013-01-02 the predicted value would be 1425.5611026523827 and the actual turned out to be 1462.420044\n",
      "For date 2013-01-03 the predicted value would be 1434.503993218798 and the actual turned out to be 1459.369995\n",
      "For date 2013-01-04 the predicted value would be 1441.8224323139311 and the actual turned out to be 1466.469971\n",
      "For date 2013-01-07 the predicted value would be 1449.6462989430045 and the actual turned out to be 1461.890015\n",
      "For date 2013-01-08 the predicted value would be 1463.3898963357055 and the actual turned out to be 1457.150024\n",
      "For date 2013-01-09 the predicted value would be 1466.5680113518395 and the actual turned out to be 1461.02002\n",
      "For date 2013-01-10 the predicted value would be 1467.3754871556202 and the actual turned out to be 1472.119995\n",
      "\n",
      "Mean absolute error of the predictions: 16.449795629115474\n"
     ]
    }
   ],
   "source": [
    "# Test UPDATED function for test-for-daterange for the first 10 days of 2013\n",
    "\n",
    "selected_features = ['meanpast5days', 'meanpast30days', 'meanpast365days', 'ratiopast5vspast365'] + features_month + features_dayofweek\n",
    "startdate = '2013-01-01'\n",
    "enddate = '2013-01-10'\n",
    "result = test_for_daterange_lesshistory(selected_features, startdate, enddate, printdetails = True)\n",
    "print('\\nMean absolute error of the predictions:', result)"
   ]
  },
  {
   "cell_type": "code",
   "execution_count": 48,
   "metadata": {},
   "outputs": [
    {
     "name": "stdout",
     "output_type": "stream",
     "text": [
      "Features used: ['meanpast5days', 'meanpast30days', 'meanpast365days', 'ratiopast5vspast365', 'month_1', 'month_2', 'month_3', 'month_4', 'month_5', 'month_6', 'month_7', 'month_8', 'month_9', 'month_10', 'month_11', 'month_12', 'dayofweek_Friday', 'dayofweek_Monday', 'dayofweek_Thursday', 'dayofweek_Tuesday', 'dayofweek_Wednesday'] \n",
      "\n",
      "For date 2013-01-02 the predicted value would be 1418.8718327958718 and the actual turned out to be 1462.420044\n",
      "For date 2013-01-03 the predicted value would be 1426.3791381261572 and the actual turned out to be 1459.369995\n",
      "For date 2013-01-04 the predicted value would be 1434.6377579280522 and the actual turned out to be 1466.469971\n",
      "For date 2013-01-07 the predicted value would be 1444.8305422011963 and the actual turned out to be 1461.890015\n",
      "For date 2013-01-08 the predicted value would be 1457.5968741460215 and the actual turned out to be 1457.150024\n",
      "For date 2013-01-09 the predicted value would be 1464.193081549576 and the actual turned out to be 1461.02002\n",
      "For date 2013-01-10 the predicted value would be 1463.764304883688 and the actual turned out to be 1472.119995\n",
      "\n",
      "Mean absolute error of the predictions: 19.62947939437598\n"
     ]
    }
   ],
   "source": [
    "# To compare, re-run ORIGINAL function for test-for-daterange for these 10 days\n",
    "\n",
    "selected_features = ['meanpast5days', 'meanpast30days', 'meanpast365days', 'ratiopast5vspast365'] + features_month + features_dayofweek\n",
    "startdate = '2013-01-01'\n",
    "enddate = '2013-01-10'\n",
    "result = test_for_daterange(selected_features, startdate, enddate, printdetails = True)\n",
    "print('\\nMean absolute error of the predictions:', result)"
   ]
  },
  {
   "cell_type": "markdown",
   "metadata": {},
   "source": [
    "That looks promising! When using only 2 years of history, for this small sample of 10 predictions, the mean absolute error is significantly lower (16.4 vs 19.6).\n",
    "\n",
    "Let's try this out this approach on the entire date range from 2013-01-01 onward."
   ]
  },
  {
   "cell_type": "code",
   "execution_count": 49,
   "metadata": {},
   "outputs": [
    {
     "name": "stdout",
     "output_type": "stream",
     "text": [
      "Features used: ['meanpast5days', 'meanpast30days', 'meanpast365days', 'ratiopast5vspast365', 'month_1', 'month_2', 'month_3', 'month_4', 'month_5', 'month_6', 'month_7', 'month_8', 'month_9', 'month_10', 'month_11', 'month_12', 'dayofweek_Friday', 'dayofweek_Monday', 'dayofweek_Thursday', 'dayofweek_Tuesday', 'dayofweek_Wednesday'] \n",
      "\n",
      "\n",
      "Mean absolute error of the predictions: 16.230565532446683\n"
     ]
    }
   ],
   "source": [
    "# Run the UPDATED test-for-daterange (rolling horizon, with less history) for all dates from 2013-01-01 until the end\n",
    "\n",
    "selected_features = ['meanpast5days', 'meanpast30days', 'meanpast365days', 'ratiopast5vspast365'] + features_month + features_dayofweek\n",
    "startdate = '2013-01-01'\n",
    "enddate = '2015-12-07'\n",
    "result = test_for_daterange_lesshistory(selected_features, startdate, enddate, printdetails = False)\n",
    "print('\\nMean absolute error of the predictions:', result)"
   ]
  },
  {
   "cell_type": "markdown",
   "metadata": {},
   "source": [
    "That is disappointing.... The Mean absolute error of 16.23 is worse again than the 16.06 that we had when using all history."
   ]
  },
  {
   "cell_type": "markdown",
   "metadata": {},
   "source": [
    "## 5. Conclusions and possible next steps\n",
    "\n",
    "Attempting to predict the 'Close' value of the S&P 500 index for 2013 to mid-2015 using historic data with a linear regression model, we tried out several combinations of features. A combination of numerical features (mainly: the mean Close value of the past 5, 30 and 365 days) combined with some categorical features (month, day of the week) gave the best results.\n",
    "\n",
    "There were hardly any differences though for different feature selections, when taking the Mean absolute error as metric.\n",
    "\n",
    "When using a 'rolling horizon' for the training data (that is: always use all available data for each prediction) hardly gave better predictions, compared with training data only up to and including 2012.\n",
    "\n",
    "The Mean absolute error of the predictions always hovered between 16 and 16.5.\n",
    "\n",
    "Whether this is good or not....? Hard to say. Obviously there *is* no really good model to predict the stock market based on history. The person who were to find such model would get incredibly reach..."
   ]
  },
  {
   "cell_type": "markdown",
   "metadata": {},
   "source": [
    "Having said that, here are some possible next steps:\n",
    "* Do more analysis on the error metric. We only checked the Mean absolute error, and it was always almost the same. But possibly the spread in it was significant, indicating that one model was still better than another? Other error metrics may show a different result.\n",
    "* Try out other feautures still. Where one important suggestion is to not only use features from the historic data of the S&P 500 index itself, but also 'external' features. E.g. the weather in New York, or indices that tell something about the overall state of the economy.\n",
    "* Try out different models than linear regression\n",
    "\n",
    "And finally, **not** a suggested next step: start trading using the model developed in this notebook!"
   ]
  }
 ],
 "metadata": {
  "kernelspec": {
   "display_name": "Python 3",
   "language": "python",
   "name": "python3"
  },
  "language_info": {
   "codemirror_mode": {
    "name": "ipython",
    "version": 3
   },
   "file_extension": ".py",
   "mimetype": "text/x-python",
   "name": "python",
   "nbconvert_exporter": "python",
   "pygments_lexer": "ipython3",
   "version": "3.7.4"
  }
 },
 "nbformat": 4,
 "nbformat_minor": 2
}
